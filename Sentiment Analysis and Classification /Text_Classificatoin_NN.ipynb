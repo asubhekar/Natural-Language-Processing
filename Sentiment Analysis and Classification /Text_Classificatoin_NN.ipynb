{
  "cells": [
    {
      "cell_type": "markdown",
      "metadata": {
        "id": "ITeiqEVwf9PJ"
      },
      "source": [
        "## HW2 - Sentiment Analysis using CNN and RNN.\n",
        "### Name - Atharv Subhekar\n",
        "### CWID - 20015840"
      ]
    },
    {
      "cell_type": "code",
      "execution_count": 83,
      "metadata": {
        "colab": {
          "base_uri": "https://localhost:8080/"
        },
        "id": "xRiO1sfTf6Ay",
        "outputId": "be739ba6-d7d0-4dc9-dc6a-ecbea3129c51"
      },
      "outputs": [
        {
          "output_type": "stream",
          "name": "stderr",
          "text": [
            "[nltk_data] Downloading package stopwords to /root/nltk_data...\n",
            "[nltk_data]   Package stopwords is already up-to-date!\n"
          ]
        }
      ],
      "source": [
        "# importing required libraries\n",
        "import pandas as pd\n",
        "import numpy as np\n",
        "import re\n",
        "import string\n",
        "import nltk\n",
        "from nltk.corpus import stopwords\n",
        "nltk.download('stopwords')\n",
        "from sklearn.model_selection import train_test_split\n",
        "from sklearn.decomposition import TruncatedSVD\n",
        "import keras\n",
        "from keras import models\n",
        "from keras.models import Sequential\n",
        "from keras.layers import LSTM, Activation, Dropout, Dense, Input, Embedding, Conv1D, MaxPooling1D, Flatten\n",
        "from tensorflow.keras.preprocessing import sequence\n",
        "from keras.callbacks import ReduceLROnPlateau, EarlyStopping\n",
        "import gensim.downloader as api\n",
        "import random\n",
        "from sklearn.metrics import classification_report\n",
        "from sklearn import metrics\n",
        "import matplotlib.pyplot as plt"
      ]
    },
    {
      "cell_type": "markdown",
      "metadata": {
        "id": "y6akSVXagWEw"
      },
      "source": [
        "### Data Preprocessing\n"
      ]
    },
    {
      "cell_type": "markdown",
      "metadata": {
        "id": "UMJzRJqSgjbw"
      },
      "source": [
        "#### Data Preprocessing\n",
        "In Data Preprocessing we have a function to tokenize each sentence into separate works called tokens."
      ]
    },
    {
      "cell_type": "code",
      "execution_count": 50,
      "metadata": {
        "id": "TuqDQx3OgX30"
      },
      "outputs": [],
      "source": [
        "def tokenize(text):\n",
        "    '''\n",
        "    tokenize(text) accepts a sentence (i.e., text parameter) as an input\n",
        "    '''\n",
        "    stop_words = set(stopwords.words('english'))\n",
        "\n",
        "    # splits the sentence into a list of tokens by space (including tab, new line)\n",
        "    text = re.sub(r'[0-9]+', '', text)\n",
        "    split_text = re.split(r' |\\n', text)\n",
        "\n",
        "    token_new_list = []\n",
        "\n",
        "    # removes the leading/trailing punctuations or spaces of each token, if any\n",
        "    puncts = string.punctuation\n",
        "    for token in split_text:\n",
        "        if token != '':\n",
        "            token_new = token.strip(puncts)\n",
        "            token_new_list.append(token_new.lower())\n",
        "    # removes the stop words using NLTK stopword corpus\n",
        "    filtered_sentence = []\n",
        "    for w in token_new_list:\n",
        "      if w not in stop_words:\n",
        "        filtered_sentence.append(w)\n",
        "    #vocab = [token: filtered_sentence.count(token) for token in filtered_sentence]\n",
        "    vocab = [token for token in filtered_sentence]\n",
        "    return vocab"
      ]
    },
    {
      "cell_type": "code",
      "execution_count": 51,
      "metadata": {
        "colab": {
          "base_uri": "https://localhost:8080/"
        },
        "id": "-LUtoMapgedN",
        "outputId": "9d1762c6-777c-4346-d5c4-dd361d528b42"
      },
      "outputs": [
        {
          "output_type": "stream",
          "name": "stderr",
          "text": [
            "<ipython-input-51-5040d86c2247>:18: FutureWarning: The default value of regex will change from True to False in a future version.\n",
            "  amazonReviews['reviewText'] = amazonReviews['reviewText'].str.replace('\\d+', '')\n"
          ]
        }
      ],
      "source": [
        "# Removing all the stop words and converting all the labels in binary labels\n",
        "# Data preprocessing\n",
        "amazonReviews = pd.read_csv('amazon_reviews.csv')\n",
        "amazonReviews = amazonReviews.dropna()\n",
        "amazonReviews.head(5)\n",
        "\n",
        "# lowercasing\n",
        "amazonReviews[\"reviewText\"] = amazonReviews[\"reviewText\"].str.lower()\n",
        "\n",
        "# removing punctuations\n",
        "amazonReviews['reviewText'] = amazonReviews['reviewText'].str.translate(str.maketrans(' ', ' ', string.punctuation))\n",
        "\n",
        "# removing stopwords\n",
        "stop_words = set(stopwords.words('english'))\n",
        "amazonReviews['reviewText'] = amazonReviews['reviewText'].apply(lambda x: ' '.join([word for word in x.split() if word not in stop_words]))\n",
        "\n",
        "# removing numbers\n",
        "amazonReviews['reviewText'] = amazonReviews['reviewText'].str.replace('\\d+', '')\n",
        "\n",
        "# tokenizing\n",
        "amazonReviews['reviewText'] = amazonReviews['reviewText'].apply(lambda x: tokenize(x))\n",
        "\n",
        "# changing labels\n",
        "amazonReviews['overall'] = amazonReviews['overall'].apply(lambda x: 1 if x == 4 or x == 5 else 0)"
      ]
    },
    {
      "cell_type": "code",
      "execution_count": 52,
      "metadata": {
        "colab": {
          "base_uri": "https://localhost:8080/",
          "height": 204
        },
        "id": "F9AXXM7FggN3",
        "outputId": "0010814a-dcc2-4f82-d2e3-8d066e16918a"
      },
      "outputs": [
        {
          "output_type": "execute_result",
          "data": {
            "text/plain": [
              "   overall                                         reviewText\n",
              "0        1                                           [issues]\n",
              "1        1  [purchased, device, worked, advertised, never,...\n",
              "2        1  [works, expected, sprung, higher, capacity, th...\n",
              "3        1  [think, worked, greathad, diff, bran, gb, card...\n",
              "4        1  [bought, retail, packaging, arrived, legit, or..."
            ],
            "text/html": [
              "\n",
              "  <div id=\"df-aa834fe3-2a49-4b27-a71c-6eccf104b9f0\" class=\"colab-df-container\">\n",
              "    <div>\n",
              "<style scoped>\n",
              "    .dataframe tbody tr th:only-of-type {\n",
              "        vertical-align: middle;\n",
              "    }\n",
              "\n",
              "    .dataframe tbody tr th {\n",
              "        vertical-align: top;\n",
              "    }\n",
              "\n",
              "    .dataframe thead th {\n",
              "        text-align: right;\n",
              "    }\n",
              "</style>\n",
              "<table border=\"1\" class=\"dataframe\">\n",
              "  <thead>\n",
              "    <tr style=\"text-align: right;\">\n",
              "      <th></th>\n",
              "      <th>overall</th>\n",
              "      <th>reviewText</th>\n",
              "    </tr>\n",
              "  </thead>\n",
              "  <tbody>\n",
              "    <tr>\n",
              "      <th>0</th>\n",
              "      <td>1</td>\n",
              "      <td>[issues]</td>\n",
              "    </tr>\n",
              "    <tr>\n",
              "      <th>1</th>\n",
              "      <td>1</td>\n",
              "      <td>[purchased, device, worked, advertised, never,...</td>\n",
              "    </tr>\n",
              "    <tr>\n",
              "      <th>2</th>\n",
              "      <td>1</td>\n",
              "      <td>[works, expected, sprung, higher, capacity, th...</td>\n",
              "    </tr>\n",
              "    <tr>\n",
              "      <th>3</th>\n",
              "      <td>1</td>\n",
              "      <td>[think, worked, greathad, diff, bran, gb, card...</td>\n",
              "    </tr>\n",
              "    <tr>\n",
              "      <th>4</th>\n",
              "      <td>1</td>\n",
              "      <td>[bought, retail, packaging, arrived, legit, or...</td>\n",
              "    </tr>\n",
              "  </tbody>\n",
              "</table>\n",
              "</div>\n",
              "    <div class=\"colab-df-buttons\">\n",
              "\n",
              "  <div class=\"colab-df-container\">\n",
              "    <button class=\"colab-df-convert\" onclick=\"convertToInteractive('df-aa834fe3-2a49-4b27-a71c-6eccf104b9f0')\"\n",
              "            title=\"Convert this dataframe to an interactive table.\"\n",
              "            style=\"display:none;\">\n",
              "\n",
              "  <svg xmlns=\"http://www.w3.org/2000/svg\" height=\"24px\" viewBox=\"0 -960 960 960\">\n",
              "    <path d=\"M120-120v-720h720v720H120Zm60-500h600v-160H180v160Zm220 220h160v-160H400v160Zm0 220h160v-160H400v160ZM180-400h160v-160H180v160Zm440 0h160v-160H620v160ZM180-180h160v-160H180v160Zm440 0h160v-160H620v160Z\"/>\n",
              "  </svg>\n",
              "    </button>\n",
              "\n",
              "  <style>\n",
              "    .colab-df-container {\n",
              "      display:flex;\n",
              "      gap: 12px;\n",
              "    }\n",
              "\n",
              "    .colab-df-convert {\n",
              "      background-color: #E8F0FE;\n",
              "      border: none;\n",
              "      border-radius: 50%;\n",
              "      cursor: pointer;\n",
              "      display: none;\n",
              "      fill: #1967D2;\n",
              "      height: 32px;\n",
              "      padding: 0 0 0 0;\n",
              "      width: 32px;\n",
              "    }\n",
              "\n",
              "    .colab-df-convert:hover {\n",
              "      background-color: #E2EBFA;\n",
              "      box-shadow: 0px 1px 2px rgba(60, 64, 67, 0.3), 0px 1px 3px 1px rgba(60, 64, 67, 0.15);\n",
              "      fill: #174EA6;\n",
              "    }\n",
              "\n",
              "    .colab-df-buttons div {\n",
              "      margin-bottom: 4px;\n",
              "    }\n",
              "\n",
              "    [theme=dark] .colab-df-convert {\n",
              "      background-color: #3B4455;\n",
              "      fill: #D2E3FC;\n",
              "    }\n",
              "\n",
              "    [theme=dark] .colab-df-convert:hover {\n",
              "      background-color: #434B5C;\n",
              "      box-shadow: 0px 1px 3px 1px rgba(0, 0, 0, 0.15);\n",
              "      filter: drop-shadow(0px 1px 2px rgba(0, 0, 0, 0.3));\n",
              "      fill: #FFFFFF;\n",
              "    }\n",
              "  </style>\n",
              "\n",
              "    <script>\n",
              "      const buttonEl =\n",
              "        document.querySelector('#df-aa834fe3-2a49-4b27-a71c-6eccf104b9f0 button.colab-df-convert');\n",
              "      buttonEl.style.display =\n",
              "        google.colab.kernel.accessAllowed ? 'block' : 'none';\n",
              "\n",
              "      async function convertToInteractive(key) {\n",
              "        const element = document.querySelector('#df-aa834fe3-2a49-4b27-a71c-6eccf104b9f0');\n",
              "        const dataTable =\n",
              "          await google.colab.kernel.invokeFunction('convertToInteractive',\n",
              "                                                    [key], {});\n",
              "        if (!dataTable) return;\n",
              "\n",
              "        const docLinkHtml = 'Like what you see? Visit the ' +\n",
              "          '<a target=\"_blank\" href=https://colab.research.google.com/notebooks/data_table.ipynb>data table notebook</a>'\n",
              "          + ' to learn more about interactive tables.';\n",
              "        element.innerHTML = '';\n",
              "        dataTable['output_type'] = 'display_data';\n",
              "        await google.colab.output.renderOutput(dataTable, element);\n",
              "        const docLink = document.createElement('div');\n",
              "        docLink.innerHTML = docLinkHtml;\n",
              "        element.appendChild(docLink);\n",
              "      }\n",
              "    </script>\n",
              "  </div>\n",
              "\n",
              "\n",
              "<div id=\"df-f60db653-095c-4f0a-ba79-21d4bd6f9977\">\n",
              "  <button class=\"colab-df-quickchart\" onclick=\"quickchart('df-f60db653-095c-4f0a-ba79-21d4bd6f9977')\"\n",
              "            title=\"Suggest charts.\"\n",
              "            style=\"display:none;\">\n",
              "\n",
              "<svg xmlns=\"http://www.w3.org/2000/svg\" height=\"24px\"viewBox=\"0 0 24 24\"\n",
              "     width=\"24px\">\n",
              "    <g>\n",
              "        <path d=\"M19 3H5c-1.1 0-2 .9-2 2v14c0 1.1.9 2 2 2h14c1.1 0 2-.9 2-2V5c0-1.1-.9-2-2-2zM9 17H7v-7h2v7zm4 0h-2V7h2v10zm4 0h-2v-4h2v4z\"/>\n",
              "    </g>\n",
              "</svg>\n",
              "  </button>\n",
              "\n",
              "<style>\n",
              "  .colab-df-quickchart {\n",
              "      --bg-color: #E8F0FE;\n",
              "      --fill-color: #1967D2;\n",
              "      --hover-bg-color: #E2EBFA;\n",
              "      --hover-fill-color: #174EA6;\n",
              "      --disabled-fill-color: #AAA;\n",
              "      --disabled-bg-color: #DDD;\n",
              "  }\n",
              "\n",
              "  [theme=dark] .colab-df-quickchart {\n",
              "      --bg-color: #3B4455;\n",
              "      --fill-color: #D2E3FC;\n",
              "      --hover-bg-color: #434B5C;\n",
              "      --hover-fill-color: #FFFFFF;\n",
              "      --disabled-bg-color: #3B4455;\n",
              "      --disabled-fill-color: #666;\n",
              "  }\n",
              "\n",
              "  .colab-df-quickchart {\n",
              "    background-color: var(--bg-color);\n",
              "    border: none;\n",
              "    border-radius: 50%;\n",
              "    cursor: pointer;\n",
              "    display: none;\n",
              "    fill: var(--fill-color);\n",
              "    height: 32px;\n",
              "    padding: 0;\n",
              "    width: 32px;\n",
              "  }\n",
              "\n",
              "  .colab-df-quickchart:hover {\n",
              "    background-color: var(--hover-bg-color);\n",
              "    box-shadow: 0 1px 2px rgba(60, 64, 67, 0.3), 0 1px 3px 1px rgba(60, 64, 67, 0.15);\n",
              "    fill: var(--button-hover-fill-color);\n",
              "  }\n",
              "\n",
              "  .colab-df-quickchart-complete:disabled,\n",
              "  .colab-df-quickchart-complete:disabled:hover {\n",
              "    background-color: var(--disabled-bg-color);\n",
              "    fill: var(--disabled-fill-color);\n",
              "    box-shadow: none;\n",
              "  }\n",
              "\n",
              "  .colab-df-spinner {\n",
              "    border: 2px solid var(--fill-color);\n",
              "    border-color: transparent;\n",
              "    border-bottom-color: var(--fill-color);\n",
              "    animation:\n",
              "      spin 1s steps(1) infinite;\n",
              "  }\n",
              "\n",
              "  @keyframes spin {\n",
              "    0% {\n",
              "      border-color: transparent;\n",
              "      border-bottom-color: var(--fill-color);\n",
              "      border-left-color: var(--fill-color);\n",
              "    }\n",
              "    20% {\n",
              "      border-color: transparent;\n",
              "      border-left-color: var(--fill-color);\n",
              "      border-top-color: var(--fill-color);\n",
              "    }\n",
              "    30% {\n",
              "      border-color: transparent;\n",
              "      border-left-color: var(--fill-color);\n",
              "      border-top-color: var(--fill-color);\n",
              "      border-right-color: var(--fill-color);\n",
              "    }\n",
              "    40% {\n",
              "      border-color: transparent;\n",
              "      border-right-color: var(--fill-color);\n",
              "      border-top-color: var(--fill-color);\n",
              "    }\n",
              "    60% {\n",
              "      border-color: transparent;\n",
              "      border-right-color: var(--fill-color);\n",
              "    }\n",
              "    80% {\n",
              "      border-color: transparent;\n",
              "      border-right-color: var(--fill-color);\n",
              "      border-bottom-color: var(--fill-color);\n",
              "    }\n",
              "    90% {\n",
              "      border-color: transparent;\n",
              "      border-bottom-color: var(--fill-color);\n",
              "    }\n",
              "  }\n",
              "</style>\n",
              "\n",
              "  <script>\n",
              "    async function quickchart(key) {\n",
              "      const quickchartButtonEl =\n",
              "        document.querySelector('#' + key + ' button');\n",
              "      quickchartButtonEl.disabled = true;  // To prevent multiple clicks.\n",
              "      quickchartButtonEl.classList.add('colab-df-spinner');\n",
              "      try {\n",
              "        const charts = await google.colab.kernel.invokeFunction(\n",
              "            'suggestCharts', [key], {});\n",
              "      } catch (error) {\n",
              "        console.error('Error during call to suggestCharts:', error);\n",
              "      }\n",
              "      quickchartButtonEl.classList.remove('colab-df-spinner');\n",
              "      quickchartButtonEl.classList.add('colab-df-quickchart-complete');\n",
              "    }\n",
              "    (() => {\n",
              "      let quickchartButtonEl =\n",
              "        document.querySelector('#df-f60db653-095c-4f0a-ba79-21d4bd6f9977 button');\n",
              "      quickchartButtonEl.style.display =\n",
              "        google.colab.kernel.accessAllowed ? 'block' : 'none';\n",
              "    })();\n",
              "  </script>\n",
              "</div>\n",
              "    </div>\n",
              "  </div>\n"
            ]
          },
          "metadata": {},
          "execution_count": 52
        }
      ],
      "source": [
        "amazonReviews.head()\n"
      ]
    },
    {
      "cell_type": "markdown",
      "metadata": {
        "id": "I_4zlHR2gpT0"
      },
      "source": [
        "### Data Split\n",
        "Splitting the data into training set, validation set and testing set with size 80%, 10% and 10% respectively.*italicized text*"
      ]
    },
    {
      "cell_type": "code",
      "execution_count": 53,
      "metadata": {
        "id": "75VzE4CfgpFl"
      },
      "outputs": [],
      "source": [
        "features = amazonReviews['reviewText']\n",
        "target = amazonReviews['overall']\n",
        "# Splitting the data into train and test set\n",
        "X_train, X_test, y_train, y_test = train_test_split(features, target, test_size=0.1, random_state=8)\n",
        "# Splitting X_train and y_trian into train and validation set\n",
        "X_train, X_val, y_train, y_val = train_test_split(X_train, y_train, test_size=0.1, random_state=8)"
      ]
    },
    {
      "cell_type": "markdown",
      "metadata": {
        "id": "wyKjXFcggxc-"
      },
      "source": [
        "### Data Statistics\n",
        "For data statistics I tokenized and stored all the words in a single list and computed basic stats."
      ]
    },
    {
      "cell_type": "code",
      "execution_count": 54,
      "metadata": {
        "id": "Cw-pum_cg34N"
      },
      "outputs": [],
      "source": [
        "all_words = []\n",
        "for i in features:\n",
        "  for j in i:\n",
        "    all_words.append(j)"
      ]
    },
    {
      "cell_type": "code",
      "execution_count": 55,
      "metadata": {
        "id": "kEapQmfng6Tg"
      },
      "outputs": [],
      "source": [
        "def counters(all_words):\n",
        "  token_count = []\n",
        "  for tokens in all_words:\n",
        "    token_count.append(len(tokens))\n",
        "\n",
        "  return token_count"
      ]
    },
    {
      "cell_type": "code",
      "execution_count": 56,
      "metadata": {
        "colab": {
          "base_uri": "https://localhost:8080/"
        },
        "id": "2xahGrSNg43s",
        "outputId": "9dfe5594-715a-45de-c83c-55fe3998a49f"
      },
      "outputs": [
        {
          "output_type": "stream",
          "name": "stdout",
          "text": [
            "Lenght of training set values -  3979\n",
            "Lenght of training set labels -  3979\n",
            "Lenght of testing set values -  492\n",
            "Lenght of testing set labels -  492\n",
            "Lenght of validation set values -  443\n",
            "Lenght of validation set labels -  443\n"
          ]
        }
      ],
      "source": [
        "# Number of data samples and their labels\n",
        "print('Lenght of training set values - ',len(X_train))\n",
        "print('Lenght of training set labels - ',len(y_train))\n",
        "print('Lenght of testing set values - ',len(X_test))\n",
        "print('Lenght of testing set labels - ',len(y_test))\n",
        "print('Lenght of validation set values - ',len(X_val))\n",
        "print('Lenght of validation set labels - ',len(y_val))"
      ]
    },
    {
      "cell_type": "code",
      "execution_count": 57,
      "metadata": {
        "colab": {
          "base_uri": "https://localhost:8080/"
        },
        "id": "lg_N_hvHg9hZ",
        "outputId": "8a61a731-3b44-4504-9b55-8223adc52556"
      },
      "outputs": [
        {
          "output_type": "stream",
          "name": "stdout",
          "text": [
            "Total number of tokens - 102763\n",
            "Maximum number of tokens in all the reviews in X_train - 781\n",
            "Minimum number of tokens in all the reviews in X_train - 1\n",
            "Average number of tokens in all the reviews in X_train - 25.826338275948732\n"
          ]
        }
      ],
      "source": [
        "# Number of tokens in X_train\n",
        "token_count = counters(X_train)\n",
        "print('Total number of tokens -', sum(token_count))\n",
        "print('Maximum number of tokens in all the reviews in X_train -',max(token_count))\n",
        "print('Minimum number of tokens in all the reviews in X_train -',min(token_count))\n",
        "print('Average number of tokens in all the reviews in X_train -',sum(token_count) / len(token_count))"
      ]
    },
    {
      "cell_type": "code",
      "execution_count": 58,
      "metadata": {
        "colab": {
          "base_uri": "https://localhost:8080/"
        },
        "id": "vb4B548UQ1Cs",
        "outputId": "a2d21f0c-0f92-490c-982f-c3e0a10ea579"
      },
      "outputs": [
        {
          "output_type": "stream",
          "name": "stdout",
          "text": [
            "Total number of tokens - 11577\n",
            "Maximum number of tokens in all the reviews in X_train - 240\n",
            "Minimum number of tokens in all the reviews in X_train - 1\n",
            "Average number of tokens in all the reviews in X_train - 23.53048780487805\n"
          ]
        }
      ],
      "source": [
        "# Number of tokens in X_train\n",
        "token_count = counters(X_test)\n",
        "print('Total number of tokens -', sum(token_count))\n",
        "print('Maximum number of tokens in all the reviews in X_train -',max(token_count))\n",
        "print('Minimum number of tokens in all the reviews in X_train -',min(token_count))\n",
        "print('Average number of tokens in all the reviews in X_train -',sum(token_count) / len(token_count))"
      ]
    },
    {
      "cell_type": "code",
      "source": [
        "# Number of tokens in X_val\n",
        "token_count = counters(X_val)\n",
        "print('Total number of tokens -', sum(token_count))\n",
        "print('Maximum number of tokens in all the reviews in X_train -',max(token_count))\n",
        "print('Minimum number of tokens in all the reviews in X_train -',min(token_count))\n",
        "print('Average number of tokens in all the reviews in X_train -',sum(token_count) / len(token_count))"
      ],
      "metadata": {
        "colab": {
          "base_uri": "https://localhost:8080/"
        },
        "id": "Oqjt3Niqw-zv",
        "outputId": "8744efe0-bdbd-4878-9b35-bd978ef4f96e"
      },
      "execution_count": 59,
      "outputs": [
        {
          "output_type": "stream",
          "name": "stdout",
          "text": [
            "Total number of tokens - 10422\n",
            "Maximum number of tokens in all the reviews in X_train - 141\n",
            "Minimum number of tokens in all the reviews in X_train - 1\n",
            "Average number of tokens in all the reviews in X_train - 23.525959367945823\n"
          ]
        }
      ]
    },
    {
      "cell_type": "markdown",
      "metadata": {
        "id": "KyIQBc6MQ3ta"
      },
      "source": [
        "## Recurrent Neural Network using Keras embedding layer\n",
        "Implementing Simple RNN using Keras Embedding layer which take text to sequence as input and creates word embedding in the model itself."
      ]
    },
    {
      "cell_type": "code",
      "execution_count": 60,
      "metadata": {
        "id": "eI6wjbSmklLe"
      },
      "outputs": [],
      "source": [
        "# Function to get a list of all the unique words in the corpus excluding stopwords.\n",
        "def get_vocab(corpus):\n",
        "  # considering that we are passing the entire dataset i.e. along with the ratings\n",
        "  vocabulary = [word for review in corpus[\"reviewText\"] for word in review]\n",
        "  return sorted(set(vocabulary))"
      ]
    },
    {
      "cell_type": "code",
      "execution_count": 61,
      "metadata": {
        "id": "sAb1sovokvwC"
      },
      "outputs": [],
      "source": [
        "# Function to store all the unique words in the corpus\n",
        "def word2index(corpus):\n",
        "  # obtaining the vocabulary\n",
        "  vocab = get_vocab(corpus)\n",
        "  # creating word2index\n",
        "  word2index = {}\n",
        "  for i in range(len(vocab)):\n",
        "    word2index[vocab[i]] = i\n",
        "  return word2index"
      ]
    },
    {
      "cell_type": "code",
      "execution_count": 62,
      "metadata": {
        "id": "pg-Nb8ablAcp"
      },
      "outputs": [],
      "source": [
        "word2index = word2index(amazonReviews)"
      ]
    },
    {
      "cell_type": "code",
      "execution_count": 63,
      "metadata": {
        "id": "BB-N2y_HXlMW"
      },
      "outputs": [],
      "source": [
        "# allocating space to construct review sequences\n",
        "review_seq = []\n",
        "for review in features:\n",
        "  currReview = []\n",
        "  for token in review:\n",
        "    try:\n",
        "      idx = word2index[token]\n",
        "      currReview.append(idx)\n",
        "    except KeyError:\n",
        "      currReview.append(0)\n",
        "\n",
        "  review_seq.append(currReview)"
      ]
    },
    {
      "cell_type": "code",
      "execution_count": 64,
      "metadata": {
        "id": "zVvvHYApZhpH"
      },
      "outputs": [],
      "source": [
        "# Splitting the data into train and test set\n",
        "X_train, X_test, y_train, y_test = train_test_split(review_seq, target, test_size=0.1, random_state=8)\n",
        "# Splitting X_train and y_trian into train and validation set\n",
        "X_train, X_val, y_train, y_val = train_test_split(X_train, y_train, test_size=0.1, random_state=8)"
      ]
    },
    {
      "cell_type": "code",
      "execution_count": 65,
      "metadata": {
        "id": "xNW10NNVQ0me"
      },
      "outputs": [],
      "source": [
        "seq_length = 30\n",
        "X_train_seq = sequence.pad_sequences(X_train, maxlen = seq_length)\n",
        "X_val_seq = sequence.pad_sequences(X_val, maxlen = seq_length)\n",
        "X_test_seq = sequence.pad_sequences(X_test, maxlen = seq_length)"
      ]
    },
    {
      "cell_type": "code",
      "execution_count": 66,
      "metadata": {
        "colab": {
          "base_uri": "https://localhost:8080/"
        },
        "id": "0UhwNZrLQ1z1",
        "outputId": "89f24ac0-6682-49c0-df5f-f12cf0928515"
      },
      "outputs": [
        {
          "output_type": "stream",
          "name": "stdout",
          "text": [
            "Model: \"sequential_3\"\n",
            "_________________________________________________________________\n",
            " Layer (type)                Output Shape              Param #   \n",
            "=================================================================\n",
            " embedding_1 (Embedding)     (None, 30, 10)            96970     \n",
            "                                                                 \n",
            " lstm_2 (LSTM)               (None, 128)               71168     \n",
            "                                                                 \n",
            " dense_4 (Dense)             (None, 1)                 129       \n",
            "                                                                 \n",
            "=================================================================\n",
            "Total params: 168267 (657.29 KB)\n",
            "Trainable params: 168267 (657.29 KB)\n",
            "Non-trainable params: 0 (0.00 Byte)\n",
            "_________________________________________________________________\n"
          ]
        }
      ],
      "source": [
        "# Defining the model\n",
        "model = Sequential()\n",
        "model.add(Embedding(len(word2index) ,10, input_length = seq_length))\n",
        "model.add(LSTM(128 , dropout = 0.25, recurrent_dropout = 0.25))\n",
        "model.add(Dense(1, activation = 'sigmoid' ))\n",
        "# Summarizing the model to check the number of parameters and size of the model.\n",
        "model.summary()"
      ]
    },
    {
      "cell_type": "code",
      "execution_count": 67,
      "metadata": {
        "id": "O-suMnoVQ2KJ"
      },
      "outputs": [],
      "source": [
        "# Compiling the model using Stochastic GD as optimizer and binary cross entropy loss as this is binary classification problem\n",
        "model.compile( optimizer = \"sgd\" , loss = 'binary_crossentropy' , metrics = ['accuracy'] )"
      ]
    },
    {
      "cell_type": "code",
      "execution_count": 68,
      "metadata": {
        "colab": {
          "base_uri": "https://localhost:8080/"
        },
        "id": "6VlT4XitQ2Vl",
        "outputId": "65d64b63-4153-4308-ee8d-6ce03a690e82"
      },
      "outputs": [
        {
          "output_type": "stream",
          "name": "stdout",
          "text": [
            "Epoch 1/5\n",
            "125/125 [==============================] - 16s 96ms/step - loss: 0.4901 - accuracy: 0.9007 - val_loss: 0.3638 - val_accuracy: 0.9052\n",
            "Epoch 2/5\n",
            "125/125 [==============================] - 10s 82ms/step - loss: 0.3342 - accuracy: 0.9030 - val_loss: 0.3153 - val_accuracy: 0.9052\n",
            "Epoch 3/5\n",
            "125/125 [==============================] - 16s 131ms/step - loss: 0.3189 - accuracy: 0.9030 - val_loss: 0.3137 - val_accuracy: 0.9052\n",
            "Epoch 4/5\n",
            "125/125 [==============================] - 18s 147ms/step - loss: 0.3183 - accuracy: 0.9030 - val_loss: 0.3135 - val_accuracy: 0.9052\n",
            "Epoch 5/5\n",
            "125/125 [==============================] - 13s 106ms/step - loss: 0.3182 - accuracy: 0.9030 - val_loss: 0.3132 - val_accuracy: 0.9052\n"
          ]
        }
      ],
      "source": [
        "# Fitting the model on the training data and testing the model for accuracy of validation data.\n",
        "history = model.fit(X_train_seq , y_train, epochs = 5, validation_data =(X_val_seq, y_val) , verbose = 1)"
      ]
    },
    {
      "cell_type": "code",
      "execution_count": 69,
      "metadata": {
        "colab": {
          "base_uri": "https://localhost:8080/"
        },
        "id": "wkVG1WAjQ2eg",
        "outputId": "8263d3b8-0724-404d-fbe3-55f1da800647"
      },
      "outputs": [
        {
          "output_type": "stream",
          "name": "stdout",
          "text": [
            "16/16 [==============================] - 0s 20ms/step - loss: 0.2738 - accuracy: 0.9228\n",
            "Accuracy: 0.9228\n",
            "Loss: 0.27384519577026367\n"
          ]
        }
      ],
      "source": [
        "score = model.evaluate(X_test_seq, y_test)\n",
        "\n",
        "print( \"Accuracy: {:0.4}\".format( score[1] ))\n",
        "\n",
        "print( \"Loss:\", score[0] )"
      ]
    },
    {
      "cell_type": "markdown",
      "metadata": {
        "id": "F9Zd7qOe_Y66"
      },
      "source": [
        "### Recurrent Neural Network using Cooccurrence matrix embeddings"
      ]
    },
    {
      "cell_type": "code",
      "execution_count": 70,
      "metadata": {
        "id": "VatMejqqQQaI"
      },
      "outputs": [],
      "source": [
        "#### SPLITTING THE DATA AGAIN SINCE WE ALREADY SPLIT DATA FOR KERAS EMBEDDING LAYER FOR TEXT TO SEQUENCE GENERATION.\n",
        "### THAT DATA IS NOT WHAT WE NEED FOR THE FURTHER MODELS.\n",
        "features = amazonReviews['reviewText']\n",
        "target = amazonReviews['overall']\n",
        "# Splitting the data into train and test set\n",
        "X_train, X_test, y_train, y_test = train_test_split(features, target, test_size=0.1, random_state=8)\n",
        "# Splitting X_train and y_trian into train and validation set\n",
        "X_train, X_val, y_train, y_val = train_test_split(X_train, y_train, test_size=0.1, random_state=8)"
      ]
    },
    {
      "cell_type": "code",
      "execution_count": 71,
      "metadata": {
        "id": "4uynoDDNAQJl"
      },
      "outputs": [],
      "source": [
        "def by_indexes(iterable):\n",
        "      output = {}\n",
        "      for index, key in enumerate(iterable):\n",
        "          output.setdefault(key, []).append(index)\n",
        "      return output"
      ]
    },
    {
      "cell_type": "code",
      "execution_count": 72,
      "metadata": {
        "id": "35sVzxluASJz"
      },
      "outputs": [],
      "source": [
        "def compute_co_occurrence_matrix(corpus, window_size = 4):\n",
        "\n",
        "    # obtaining the vocabulary\n",
        "    vocab = get_vocab(corpus)\n",
        "\n",
        "    # creating word2index\n",
        "    word2index = {}\n",
        "    for i in range(len(vocab)):\n",
        "        word2index[vocab[i]] = i\n",
        "\n",
        "    # creating M\n",
        "    M = np.zeros((len(vocab), len(vocab)))\n",
        "    M = pd.DataFrame(data = M)\n",
        "\n",
        "    # populating M\n",
        "    for review in corpus['reviewText']:\n",
        "        for i in range(len(review)):\n",
        "            center_word = review[i]\n",
        "            for j in range(len(review)):\n",
        "                if abs(i - j) <= window_size:\n",
        "                    M[word2index[review[i]]][word2index[review[j]]] += 1\n",
        "\n",
        "\n",
        "    return M, word2index"
      ]
    },
    {
      "cell_type": "code",
      "execution_count": 73,
      "metadata": {
        "id": "F8EMRPvyAVju"
      },
      "outputs": [],
      "source": [
        "M, word2index = compute_co_occurrence_matrix(amazonReviews)"
      ]
    },
    {
      "cell_type": "code",
      "execution_count": 74,
      "metadata": {
        "id": "IqUEjUjqAX_Z"
      },
      "outputs": [],
      "source": [
        "def reduce_to_k_dim(M, n_components=2):\n",
        "  svd = TruncatedSVD(n_iter=10, random_state=42, n_components = n_components)\n",
        "  k_dim_matrix = svd.fit_transform(M)\n",
        "  return k_dim_matrix"
      ]
    },
    {
      "cell_type": "code",
      "execution_count": 75,
      "metadata": {
        "id": "nlK0AlKM_5sF"
      },
      "outputs": [],
      "source": [
        "def review_embeddings(corpus, word2index, M, n_components = 2):\n",
        "\n",
        "  # reducing dimensions of M_glove\n",
        "  M_reduced = reduce_to_k_dim(M, n_components = n_components)\n",
        "  #M_reduced_averaged = np.average(M_reduced, axis = 1)\n",
        "\n",
        "  # allocating space to construct review embeddings\n",
        "  review_embeddings = []\n",
        "  for review in corpus:\n",
        "    currReview = []\n",
        "    for token in review:\n",
        "      try:\n",
        "        idx = word2index[token]\n",
        "        currReview.append(M_reduced[idx])\n",
        "      except KeyError:\n",
        "        value = np.zeros(n_components)\n",
        "        currReview.append(value)\n",
        "    review_embeddings.append(currReview)\n",
        "\n",
        "\n",
        "  # padding the review embeddings to have same length\n",
        "  review_embeddings_padded = []\n",
        "  max_len = 240\n",
        "  for embedding in review_embeddings:\n",
        "    embedding = np.array(embedding)\n",
        "    diff = max_len - len(embedding)\n",
        "    if diff>0:\n",
        "      data = np.pad(embedding,[(0,diff),(0,0)])\n",
        "      review_embeddings_padded.append(data)\n",
        "    else:\n",
        "      embedding = embedding[:max_len]\n",
        "      review_embeddings_padded.append(embedding)\n",
        "\n",
        "  review_embeddings_padded = np.stack(review_embeddings_padded)\n",
        "\n",
        "  return review_embeddings_padded"
      ]
    },
    {
      "cell_type": "code",
      "execution_count": 76,
      "metadata": {
        "id": "q0meWjUmAiyE"
      },
      "outputs": [],
      "source": [
        "# Creating the word embeddings for testing, validation and training set.\n",
        "review_embed_X_train = review_embeddings(X_train, word2index, M, 128)\n",
        "review_embed_X_val = review_embeddings(X_val, word2index, M, 128)\n",
        "review_embed_X_test = review_embeddings(X_test, word2index, M, 128)\n"
      ]
    },
    {
      "cell_type": "code",
      "execution_count": 77,
      "metadata": {
        "colab": {
          "base_uri": "https://localhost:8080/"
        },
        "id": "oAxhGuRvubLI",
        "outputId": "77ce82a2-ad8a-4a57-b617-d100e4f37a52"
      },
      "outputs": [
        {
          "output_type": "stream",
          "name": "stdout",
          "text": [
            "Model: \"sequential_4\"\n",
            "_________________________________________________________________\n",
            " Layer (type)                Output Shape              Param #   \n",
            "=================================================================\n",
            " lstm_3 (LSTM)               (None, 128)               131584    \n",
            "                                                                 \n",
            " dense_5 (Dense)             (None, 1)                 129       \n",
            "                                                                 \n",
            "=================================================================\n",
            "Total params: 131713 (514.50 KB)\n",
            "Trainable params: 131713 (514.50 KB)\n",
            "Non-trainable params: 0 (0.00 Byte)\n",
            "_________________________________________________________________\n"
          ]
        }
      ],
      "source": [
        "model = Sequential()\n",
        "\n",
        "model.add(Input(shape=(240,128)))\n",
        "\n",
        "model.add(LSTM(128 , dropout = 0.25, recurrent_dropout = 0.25))\n",
        "\n",
        "model.add(Dense(1, activation = 'sigmoid' ))\n",
        "\n",
        "model.summary()"
      ]
    },
    {
      "cell_type": "code",
      "execution_count": 78,
      "metadata": {
        "id": "X1BK0CTjvMMx"
      },
      "outputs": [],
      "source": [
        "model.compile( optimizer = \"sgd\" , loss = 'binary_crossentropy' , metrics = ['accuracy'] )"
      ]
    },
    {
      "cell_type": "code",
      "execution_count": 79,
      "metadata": {
        "colab": {
          "base_uri": "https://localhost:8080/"
        },
        "id": "k2a1ooluvPK_",
        "outputId": "d002be5c-88db-42b2-c5e0-e5def349a97d"
      },
      "outputs": [
        {
          "output_type": "stream",
          "name": "stdout",
          "text": [
            "Epoch 1/5\n",
            "125/125 [==============================] - 85s 650ms/step - loss: 0.4864 - accuracy: 0.8985 - val_loss: 0.3563 - val_accuracy: 0.9052\n",
            "Epoch 2/5\n",
            "125/125 [==============================] - 75s 602ms/step - loss: 0.3284 - accuracy: 0.9035 - val_loss: 0.3145 - val_accuracy: 0.9052\n",
            "Epoch 3/5\n",
            "125/125 [==============================] - 76s 611ms/step - loss: 0.3178 - accuracy: 0.9032 - val_loss: 0.3136 - val_accuracy: 0.9052\n",
            "Epoch 4/5\n",
            "125/125 [==============================] - 76s 609ms/step - loss: 0.3169 - accuracy: 0.9035 - val_loss: 0.3135 - val_accuracy: 0.9052\n",
            "Epoch 5/5\n",
            "125/125 [==============================] - 76s 609ms/step - loss: 0.3170 - accuracy: 0.9032 - val_loss: 0.3136 - val_accuracy: 0.9052\n"
          ]
        }
      ],
      "source": [
        "history = model.fit(review_embed_X_train , y_train, epochs = 5, validation_data =(review_embed_X_val, y_val) , verbose = 1)"
      ]
    },
    {
      "cell_type": "code",
      "execution_count": 80,
      "metadata": {
        "colab": {
          "base_uri": "https://localhost:8080/"
        },
        "id": "p44eU5KSvaVl",
        "outputId": "0a7d9bd8-eb97-402b-881b-49308f11d78e"
      },
      "outputs": [
        {
          "output_type": "stream",
          "name": "stdout",
          "text": [
            "25/25 [==============================] - 2s 76ms/step - loss: 0.2752 - accuracy: 0.9207\n",
            "Accuracy: 0.9207\n",
            "Loss: 0.2752279043197632\n"
          ]
        }
      ],
      "source": [
        "score = model.evaluate(review_embed_X_test, y_test, batch_size = 20)\n",
        "\n",
        "print( \"Accuracy: {:0.4}\".format( score[1] ))\n",
        "\n",
        "print( \"Loss:\", score[0] )"
      ]
    },
    {
      "cell_type": "code",
      "source": [
        "y_pred = model.predict(review_embed_X_test)\n",
        "y_pred2 = []\n",
        "for i in y_pred:\n",
        "  if i>0.5:\n",
        "    y_pred2.append(1)\n",
        "  else:\n",
        "    y_pred2.append(0)"
      ],
      "metadata": {
        "colab": {
          "base_uri": "https://localhost:8080/"
        },
        "id": "138j9192mvYn",
        "outputId": "57e54384-dd2f-48ae-8511-c7501d811bca"
      },
      "execution_count": 81,
      "outputs": [
        {
          "output_type": "stream",
          "name": "stdout",
          "text": [
            "16/16 [==============================] - 2s 98ms/step\n"
          ]
        }
      ]
    },
    {
      "cell_type": "code",
      "source": [
        "print(classification_report(y_test,y_pred2))"
      ],
      "metadata": {
        "colab": {
          "base_uri": "https://localhost:8080/"
        },
        "id": "_EjZtJd6m2eB",
        "outputId": "ad74c9d1-d850-4db4-da60-a8c334dd4e5a"
      },
      "execution_count": 82,
      "outputs": [
        {
          "output_type": "stream",
          "name": "stdout",
          "text": [
            "              precision    recall  f1-score   support\n",
            "\n",
            "           0       0.00      0.00      0.00        38\n",
            "           1       0.92      1.00      0.96       454\n",
            "\n",
            "    accuracy                           0.92       492\n",
            "   macro avg       0.46      0.50      0.48       492\n",
            "weighted avg       0.85      0.92      0.88       492\n",
            "\n"
          ]
        }
      ]
    },
    {
      "cell_type": "code",
      "source": [
        "# AUC-ROC curve\n",
        "fpr, tpr, thresholds = metrics.roc_curve(y_test, y_pred)\n",
        "roc_auc = metrics.auc(fpr, tpr)\n",
        "display = metrics.RocCurveDisplay(fpr=fpr, tpr=tpr, roc_auc=roc_auc, estimator_name='example estimator')\n",
        "display.plot()\n",
        "plt.show()"
      ],
      "metadata": {
        "colab": {
          "base_uri": "https://localhost:8080/",
          "height": 449
        },
        "id": "kaiB5QsNU8JK",
        "outputId": "4ced153a-2d90-49db-f126-6a6bb49c57aa"
      },
      "execution_count": 86,
      "outputs": [
        {
          "output_type": "display_data",
          "data": {
            "text/plain": [
              "<Figure size 640x480 with 1 Axes>"
            ],
            "image/png": "[encoded data removed]"
          },
          "metadata": {}
        }
      ]
    },
    {
      "cell_type": "markdown",
      "source": [
        "In the last problem, we created a function to get the cooccurrence matrix and calculated the embeddings for each word. We use those embeddings and passed it further into a recurrent neural netowrl.\n",
        "\n",
        "It is clear that the total number of parameters in the model are high and even with regularization we have 131713 parameters. This resulted in slower execution of the model. Each epoch took around 80 seconds to execute.\n",
        "\n",
        "This model was sensitive to the number of word embedding values. If we reduce the number of components, the model becomes unstable and returns negative accuracy. I set the number of components to 128, since it shrunk from 9000 to 128.\n",
        "\n",
        "The final training accuracy of this model is 90.30% and testing accuracy is 92.28%"
      ],
      "metadata": {
        "id": "ndrksSdDxiuJ"
      }
    },
    {
      "cell_type": "markdown",
      "metadata": {
        "id": "C4zpLZn-f6Pe"
      },
      "source": [
        "## Convolutional Neural Network using Glove embeddings"
      ]
    },
    {
      "cell_type": "code",
      "execution_count": 87,
      "metadata": {
        "id": "eua-lNgqf539"
      },
      "outputs": [],
      "source": [
        "def load_embedding_model():\n",
        "\n",
        "  wv_from_bin = api.load(\"glove-wiki-gigaword-200\")\n",
        "  print(\"Loaded vocab size %i\" % len(list(wv_from_bin.index_to_key)))\n",
        "  return wv_from_bin"
      ]
    },
    {
      "cell_type": "code",
      "execution_count": 88,
      "metadata": {
        "colab": {
          "base_uri": "https://localhost:8080/"
        },
        "id": "eQ8Re_0eiBlL",
        "outputId": "32aca62b-55c8-4803-c070-dd465d32588e"
      },
      "outputs": [
        {
          "output_type": "stream",
          "name": "stdout",
          "text": [
            "Loaded vocab size 400000\n"
          ]
        }
      ],
      "source": [
        "##### PLEASE REMOVE THE # TO DOWNLOAD THE EMBEDDING MODEL. DON'T HAVE TO RUN IF THE MODEL IS ALREADY DOWNLOADED.\n",
        "wv_from_bin = load_embedding_model()"
      ]
    },
    {
      "cell_type": "code",
      "execution_count": 89,
      "metadata": {
        "id": "cbclnP8KiGNa"
      },
      "outputs": [],
      "source": [
        "def get_matrix_of_vectors(wv_from_bin, required_words):\n",
        "\n",
        "  words = list(wv_from_bin.index_to_key)\n",
        "  print(\"Shuffling words ...\")\n",
        "  random.seed(225)\n",
        "  random.shuffle(words)\n",
        "  words = words[:10000]\n",
        "  print(\"Putting %i words into word2ind and matrix M...\" % len(words))\n",
        "  word2ind = {}\n",
        "  M = []\n",
        "  curInd = 0\n",
        "  for w in words:\n",
        "    try:\n",
        "      M.append(wv_from_bin.get_vector(w))\n",
        "      word2ind[w] = curInd\n",
        "      curInd += 1\n",
        "    except KeyError:\n",
        "      continue\n",
        "\n",
        "  for w in required_words:\n",
        "    if w in words:\n",
        "      continue\n",
        "    try:\n",
        "      M.append(wv_from_bin.get_vector(w))\n",
        "      word2ind[w] = curInd\n",
        "      curInd += 1\n",
        "    except KeyError:\n",
        "      continue\n",
        "  M = np.stack(M)\n",
        "  print(\"Done.\")\n",
        "  return M, word2ind"
      ]
    },
    {
      "cell_type": "code",
      "execution_count": 90,
      "metadata": {
        "colab": {
          "base_uri": "https://localhost:8080/"
        },
        "id": "iDgHES1FiSLO",
        "outputId": "4007a0ef-a3b5-4269-dbf0-da19bc37a658"
      },
      "outputs": [
        {
          "output_type": "stream",
          "name": "stdout",
          "text": [
            "Shuffling words ...\n",
            "Putting 10000 words into word2ind and matrix M...\n",
            "Done.\n"
          ]
        }
      ],
      "source": [
        "vocab = get_vocab(amazonReviews)\n",
        "M_glove, word2index_glove = get_matrix_of_vectors(wv_from_bin, vocab)"
      ]
    },
    {
      "cell_type": "code",
      "execution_count": 91,
      "metadata": {
        "id": "rk2v-bqvia54"
      },
      "outputs": [],
      "source": [
        "def review_embeddings(corpus, word2index, M, n_components = 2):\n",
        "\n",
        "  # reducing dimensions of M_glove\n",
        "  M_reduced = reduce_to_k_dim(M, n_components = n_components)\n",
        "  #M_reduced_averaged = np.average(M_reduced, axis = 1)\n",
        "\n",
        "  # allocating space to construct review embeddings\n",
        "  review_embeddings = []\n",
        "  for review in corpus:\n",
        "    currReview = []\n",
        "    for token in review:\n",
        "      try:\n",
        "        idx = word2index[token]\n",
        "        currReview.append(M_reduced[idx])\n",
        "      except KeyError:\n",
        "        value = np.zeros(n_components)\n",
        "        currReview.append(value)\n",
        "\n",
        "    review_embeddings.append(currReview)\n",
        "\n",
        "\n",
        "  # padding the review embeddings to have same length\n",
        "  review_embeddings_padded = []\n",
        "  max_len = 240\n",
        "  for embedding in review_embeddings:\n",
        "    embedding = np.array(embedding)\n",
        "    diff = max_len - len(embedding)\n",
        "    if diff>0:\n",
        "      data = np.pad(embedding,[(0,diff),(0,0)])\n",
        "      review_embeddings_padded.append(data)\n",
        "    else:\n",
        "      embedding = embedding[:max_len]\n",
        "      review_embeddings_padded.append(embedding)\n",
        "\n",
        "  review_embeddings_padded = np.stack(review_embeddings_padded)\n",
        "\n",
        "  return review_embeddings_padded"
      ]
    },
    {
      "cell_type": "code",
      "execution_count": 92,
      "metadata": {
        "id": "Q8peHFFBsh32"
      },
      "outputs": [],
      "source": [
        "# Creating the word embeddings for testing, validation and training set.\n",
        "review_embed_X_train_glv = review_embeddings(X_train, word2index_glove, M_glove, 128)\n",
        "review_embed_X_val_glv = review_embeddings(X_val, word2index_glove, M_glove, 128)\n",
        "review_embed_X_test_glv = review_embeddings(X_test, word2index_glove, M_glove, 128)"
      ]
    },
    {
      "cell_type": "code",
      "execution_count": 93,
      "metadata": {
        "id": "fmNLeQyw970a",
        "colab": {
          "base_uri": "https://localhost:8080/"
        },
        "outputId": "732bf8ce-fc19-49d4-c9af-56fd44153f21"
      },
      "outputs": [
        {
          "output_type": "stream",
          "name": "stdout",
          "text": [
            "Model: \"sequential_5\"\n",
            "_________________________________________________________________\n",
            " Layer (type)                Output Shape              Param #   \n",
            "=================================================================\n",
            " conv1d_1 (Conv1D)           (None, 233, 32)           32800     \n",
            "                                                                 \n",
            " max_pooling1d_1 (MaxPoolin  (None, 116, 32)           0         \n",
            " g1D)                                                            \n",
            "                                                                 \n",
            " flatten_1 (Flatten)         (None, 3712)              0         \n",
            "                                                                 \n",
            " dense_6 (Dense)             (None, 10)                37130     \n",
            "                                                                 \n",
            " dense_7 (Dense)             (None, 1)                 11        \n",
            "                                                                 \n",
            "=================================================================\n",
            "Total params: 69941 (273.21 KB)\n",
            "Trainable params: 69941 (273.21 KB)\n",
            "Non-trainable params: 0 (0.00 Byte)\n",
            "_________________________________________________________________\n",
            "None\n"
          ]
        }
      ],
      "source": [
        "# define model\n",
        "model = Sequential()\n",
        "model.add(Input(shape=(240,128)))\n",
        "model.add(Conv1D(filters=32, kernel_size=8, activation='relu'))\n",
        "model.add(MaxPooling1D(pool_size=2))\n",
        "model.add(Flatten())\n",
        "model.add(Dense(10, activation='relu'))\n",
        "model.add(Dense(1, activation='sigmoid'))\n",
        "print(model.summary())"
      ]
    },
    {
      "cell_type": "code",
      "source": [
        "# compile network\n",
        "model.compile(loss='binary_crossentropy', optimizer='sgd', metrics=['accuracy'])"
      ],
      "metadata": {
        "id": "7bX7UNtxfJ0b"
      },
      "execution_count": 94,
      "outputs": []
    },
    {
      "cell_type": "code",
      "source": [
        "# fit network\n",
        "model.fit(review_embed_X_train_glv , y_train, batch_size = 20, epochs = 5, validation_data =(review_embed_X_val_glv, y_val) , verbose = 1)"
      ],
      "metadata": {
        "colab": {
          "base_uri": "https://localhost:8080/"
        },
        "id": "-zKstOwVf2ZT",
        "outputId": "64df0ada-2142-4bd7-b308-fdf1f0f0c2f7"
      },
      "execution_count": 95,
      "outputs": [
        {
          "output_type": "stream",
          "name": "stdout",
          "text": [
            "Epoch 1/5\n",
            "199/199 [==============================] - 8s 40ms/step - loss: 0.3758 - accuracy: 0.8887 - val_loss: 0.3013 - val_accuracy: 0.9029\n",
            "Epoch 2/5\n",
            "199/199 [==============================] - 10s 51ms/step - loss: 0.2859 - accuracy: 0.9035 - val_loss: 0.2960 - val_accuracy: 0.9029\n",
            "Epoch 3/5\n",
            "199/199 [==============================] - 10s 48ms/step - loss: 0.2733 - accuracy: 0.9063 - val_loss: 0.2855 - val_accuracy: 0.9074\n",
            "Epoch 4/5\n",
            "199/199 [==============================] - 7s 38ms/step - loss: 0.2596 - accuracy: 0.9098 - val_loss: 0.2781 - val_accuracy: 0.9074\n",
            "Epoch 5/5\n",
            "199/199 [==============================] - 9s 43ms/step - loss: 0.2466 - accuracy: 0.9088 - val_loss: 0.2694 - val_accuracy: 0.9052\n"
          ]
        },
        {
          "output_type": "execute_result",
          "data": {
            "text/plain": [
              "<keras.src.callbacks.History at 0x7babbc01c8b0>"
            ]
          },
          "metadata": {},
          "execution_count": 95
        }
      ]
    },
    {
      "cell_type": "code",
      "source": [
        "score = model.evaluate(review_embed_X_test_glv, y_test, batch_size = 20)\n",
        "\n",
        "print( \"Accuracy: {:0.4}\".format( score[1] ))\n",
        "\n",
        "print( \"Loss:\", score[0] )"
      ],
      "metadata": {
        "colab": {
          "base_uri": "https://localhost:8080/"
        },
        "id": "YHaUzR0pf-YG",
        "outputId": "552684d9-1595-4b40-a1a8-92bf0864aa53"
      },
      "execution_count": 96,
      "outputs": [
        {
          "output_type": "stream",
          "name": "stdout",
          "text": [
            "25/25 [==============================] - 0s 11ms/step - loss: 0.2463 - accuracy: 0.9228\n",
            "Accuracy: 0.9228\n",
            "Loss: 0.2462574541568756\n"
          ]
        }
      ]
    },
    {
      "cell_type": "code",
      "source": [
        "y_pred = model.predict(review_embed_X_test_glv)\n",
        "y_pred2 = []\n",
        "for i in y_pred:\n",
        "  if i>0.5:\n",
        "    y_pred2.append(1)\n",
        "  else:\n",
        "    y_pred2.append(0)"
      ],
      "metadata": {
        "colab": {
          "base_uri": "https://localhost:8080/"
        },
        "id": "h-IHI9oihFXU",
        "outputId": "dbb9e7bc-2fa4-40c6-db0d-6b56d26e880b"
      },
      "execution_count": 97,
      "outputs": [
        {
          "output_type": "stream",
          "name": "stdout",
          "text": [
            "16/16 [==============================] - 0s 13ms/step\n"
          ]
        }
      ]
    },
    {
      "cell_type": "code",
      "source": [
        "print(classification_report(y_test,y_pred2))"
      ],
      "metadata": {
        "colab": {
          "base_uri": "https://localhost:8080/"
        },
        "id": "lQbnvOQIhZA1",
        "outputId": "ee040200-a1e0-4a7d-c0a4-93e2af691d1e"
      },
      "execution_count": 98,
      "outputs": [
        {
          "output_type": "stream",
          "name": "stdout",
          "text": [
            "              precision    recall  f1-score   support\n",
            "\n",
            "           0       0.50      0.03      0.05        38\n",
            "           1       0.92      1.00      0.96       454\n",
            "\n",
            "    accuracy                           0.92       492\n",
            "   macro avg       0.71      0.51      0.50       492\n",
            "weighted avg       0.89      0.92      0.89       492\n",
            "\n"
          ]
        }
      ]
    },
    {
      "cell_type": "code",
      "source": [
        "# AUC curve\n",
        "fpr, tpr, thresholds = metrics.roc_curve(y_test, y_pred)\n",
        "roc_auc = metrics.auc(fpr, tpr)\n",
        "display = metrics.RocCurveDisplay(fpr=fpr, tpr=tpr, roc_auc=roc_auc, estimator_name='example estimator')\n",
        "display.plot()\n",
        "plt.show()"
      ],
      "metadata": {
        "colab": {
          "base_uri": "https://localhost:8080/",
          "height": 449
        },
        "id": "0NLXTFclbYoo",
        "outputId": "8b99d3c6-119a-47e8-f182-9f0ea54f815f"
      },
      "execution_count": 99,
      "outputs": [
        {
          "output_type": "display_data",
          "data": {
            "text/plain": [
              "<Figure size 640x480 with 1 Axes>"
            ],
            "image/png": "[encoded data removed]"
          },
          "metadata": {}
        }
      ]
    },
    {
      "cell_type": "markdown",
      "source": [
        "Similar to our own word embeddings in the first task, we used GLOVE embeddings to vectorize the words. Similar to previous task, using SVD, we truncated the word embeddings to 128 components. This made the data a little easier through the model while keeping it stable.\n",
        "\n",
        "Convolutional Neural Network using glove embeddings is clearly fasters since the number of total parameters is half compared to Recurrent Neural Network. The total number of final parameters were 69941. This sped up the execution of the model while keeping it stable.\n",
        "\n",
        "Similar to RNN, we compiled this model usin optimizer and binary crossentropy loss for evaluation. The training accuracy achieved is 90.80% and testing accuracy is 92.28% which is better than RNN for this patricular dataset.\n"
      ],
      "metadata": {
        "id": "7UutXXcczQLq"
      }
    },
    {
      "cell_type": "markdown",
      "source": [
        "## Conclusion\n",
        "\n",
        "Considering the data, the choice of model might change. With further parameter tuning this model will perform better and faster. Different word vectorization techniques might also improve model performance given correct parameter tuning.\n",
        "\n",
        "In comparison to assignment 1 where we used both glove embeddings and cooccurrence matrix to get embeddings, after using logistic regression model and multi layer perceptron we recieved accuracy less than 80%. RNN and CNN both worked better and gave better accuracy and F1 scores.\n",
        "\n",
        "Looking at the AUC-ROC curve the separability while using CNN is better than RNN. AUC for RNN is 0.45 and for CNN is 0.75. The underlying reason might be the distribution of positive and negative labels.\n",
        "\n",
        "Since the data is biased, the recall for both the models is not great as the ratio of labels is skewed. With better quality data, we can improve the recall for both models.\n",
        "\n"
      ],
      "metadata": {
        "id": "SFhckERL0pw1"
      }
    },
    {
      "cell_type": "code",
      "source": [],
      "metadata": {
        "id": "uUSAgYR6cos8"
      },
      "execution_count": null,
      "outputs": []
    }
  ],
  "metadata": {
    "colab": {
      "provenance": []
    },
    "kernelspec": {
      "display_name": "Python 3",
      "name": "python3"
    },
    "language_info": {
      "name": "python"
    }
  },
  "nbformat": 4,
  "nbformat_minor": 0
}