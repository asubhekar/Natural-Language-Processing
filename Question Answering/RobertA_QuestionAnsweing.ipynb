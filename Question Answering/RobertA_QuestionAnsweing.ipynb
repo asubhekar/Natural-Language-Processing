{
  "nbformat": 4,
  "nbformat_minor": 0,
  "metadata": {
    "colab": {
      "provenance": []
    },
    "kernelspec": {
      "name": "python3",
      "display_name": "Python 3"
    },
    "language_info": {
      "name": "python"
    }
  },
  "cells": [
    {
      "cell_type": "markdown",
      "source": [
        "## Assignment 4: Machine Reading Comprehension\n",
        "### Name: Atharv Subhekar\n",
        "### CWID: 20015840"
      ],
      "metadata": {
        "id": "nArlQmVknvLb"
      }
    },
    {
      "cell_type": "code",
      "execution_count": 1,
      "metadata": {
        "colab": {
          "base_uri": "https://localhost:8080/"
        },
        "id": "wOEdY6QenoeH",
        "outputId": "af4ffe62-4629-405d-e085-a94ea68d70e2"
      },
      "outputs": [
        {
          "output_type": "stream",
          "name": "stdout",
          "text": [
            "Collecting datasets\n",
            "  Downloading datasets-2.15.0-py3-none-any.whl (521 kB)\n",
            "\u001b[2K     \u001b[90m━━━━━━━━━━━━━━━━━━━━━━━━━━━━━━━━━━━━━━━━\u001b[0m \u001b[32m521.2/521.2 kB\u001b[0m \u001b[31m7.4 MB/s\u001b[0m eta \u001b[36m0:00:00\u001b[0m\n",
            "\u001b[?25hRequirement already satisfied: numpy>=1.17 in /usr/local/lib/python3.10/dist-packages (from datasets) (1.23.5)\n",
            "Requirement already satisfied: pyarrow>=8.0.0 in /usr/local/lib/python3.10/dist-packages (from datasets) (9.0.0)\n",
            "Collecting pyarrow-hotfix (from datasets)\n",
            "  Downloading pyarrow_hotfix-0.6-py3-none-any.whl (7.9 kB)\n",
            "Collecting dill<0.3.8,>=0.3.0 (from datasets)\n",
            "  Downloading dill-0.3.7-py3-none-any.whl (115 kB)\n",
            "\u001b[2K     \u001b[90m━━━━━━━━━━━━━━━━━━━━━━━━━━━━━━━━━━━━━━━━\u001b[0m \u001b[32m115.3/115.3 kB\u001b[0m \u001b[31m14.3 MB/s\u001b[0m eta \u001b[36m0:00:00\u001b[0m\n",
            "\u001b[?25hRequirement already satisfied: pandas in /usr/local/lib/python3.10/dist-packages (from datasets) (1.5.3)\n",
            "Requirement already satisfied: requests>=2.19.0 in /usr/local/lib/python3.10/dist-packages (from datasets) (2.31.0)\n",
            "Requirement already satisfied: tqdm>=4.62.1 in /usr/local/lib/python3.10/dist-packages (from datasets) (4.66.1)\n",
            "Requirement already satisfied: xxhash in /usr/local/lib/python3.10/dist-packages (from datasets) (3.4.1)\n",
            "Collecting multiprocess (from datasets)\n",
            "  Downloading multiprocess-0.70.15-py310-none-any.whl (134 kB)\n",
            "\u001b[2K     \u001b[90m━━━━━━━━━━━━━━━━━━━━━━━━━━━━━━━━━━━━━━━━\u001b[0m \u001b[32m134.8/134.8 kB\u001b[0m \u001b[31m16.6 MB/s\u001b[0m eta \u001b[36m0:00:00\u001b[0m\n",
            "\u001b[?25hRequirement already satisfied: fsspec[http]<=2023.10.0,>=2023.1.0 in /usr/local/lib/python3.10/dist-packages (from datasets) (2023.6.0)\n",
            "Requirement already satisfied: aiohttp in /usr/local/lib/python3.10/dist-packages (from datasets) (3.9.1)\n",
            "Requirement already satisfied: huggingface-hub>=0.18.0 in /usr/local/lib/python3.10/dist-packages (from datasets) (0.19.4)\n",
            "Requirement already satisfied: packaging in /usr/local/lib/python3.10/dist-packages (from datasets) (23.2)\n",
            "Requirement already satisfied: pyyaml>=5.1 in /usr/local/lib/python3.10/dist-packages (from datasets) (6.0.1)\n",
            "Requirement already satisfied: attrs>=17.3.0 in /usr/local/lib/python3.10/dist-packages (from aiohttp->datasets) (23.1.0)\n",
            "Requirement already satisfied: multidict<7.0,>=4.5 in /usr/local/lib/python3.10/dist-packages (from aiohttp->datasets) (6.0.4)\n",
            "Requirement already satisfied: yarl<2.0,>=1.0 in /usr/local/lib/python3.10/dist-packages (from aiohttp->datasets) (1.9.3)\n",
            "Requirement already satisfied: frozenlist>=1.1.1 in /usr/local/lib/python3.10/dist-packages (from aiohttp->datasets) (1.4.0)\n",
            "Requirement already satisfied: aiosignal>=1.1.2 in /usr/local/lib/python3.10/dist-packages (from aiohttp->datasets) (1.3.1)\n",
            "Requirement already satisfied: async-timeout<5.0,>=4.0 in /usr/local/lib/python3.10/dist-packages (from aiohttp->datasets) (4.0.3)\n",
            "Requirement already satisfied: filelock in /usr/local/lib/python3.10/dist-packages (from huggingface-hub>=0.18.0->datasets) (3.13.1)\n",
            "Requirement already satisfied: typing-extensions>=3.7.4.3 in /usr/local/lib/python3.10/dist-packages (from huggingface-hub>=0.18.0->datasets) (4.5.0)\n",
            "Requirement already satisfied: charset-normalizer<4,>=2 in /usr/local/lib/python3.10/dist-packages (from requests>=2.19.0->datasets) (3.3.2)\n",
            "Requirement already satisfied: idna<4,>=2.5 in /usr/local/lib/python3.10/dist-packages (from requests>=2.19.0->datasets) (3.6)\n",
            "Requirement already satisfied: urllib3<3,>=1.21.1 in /usr/local/lib/python3.10/dist-packages (from requests>=2.19.0->datasets) (2.0.7)\n",
            "Requirement already satisfied: certifi>=2017.4.17 in /usr/local/lib/python3.10/dist-packages (from requests>=2.19.0->datasets) (2023.11.17)\n",
            "Requirement already satisfied: python-dateutil>=2.8.1 in /usr/local/lib/python3.10/dist-packages (from pandas->datasets) (2.8.2)\n",
            "Requirement already satisfied: pytz>=2020.1 in /usr/local/lib/python3.10/dist-packages (from pandas->datasets) (2023.3.post1)\n",
            "Requirement already satisfied: six>=1.5 in /usr/local/lib/python3.10/dist-packages (from python-dateutil>=2.8.1->pandas->datasets) (1.16.0)\n",
            "Installing collected packages: pyarrow-hotfix, dill, multiprocess, datasets\n",
            "Successfully installed datasets-2.15.0 dill-0.3.7 multiprocess-0.70.15 pyarrow-hotfix-0.6\n"
          ]
        }
      ],
      "source": [
        "!pip install datasets"
      ]
    },
    {
      "cell_type": "code",
      "source": [
        "# Importing required libraries\n",
        "import numpy as np\n",
        "import torch\n",
        "from datasets import load_dataset\n",
        "from transformers import AutoTokenizer, RobertaForQuestionAnswering"
      ],
      "metadata": {
        "id": "m_mJuA_Pnzcs"
      },
      "execution_count": 28,
      "outputs": []
    },
    {
      "cell_type": "markdown",
      "source": [
        "## RoBERTa for Question Answering"
      ],
      "metadata": {
        "id": "DwLU5IpWsdFb"
      }
    },
    {
      "cell_type": "markdown",
      "source": [
        "### Loading the dataset"
      ],
      "metadata": {
        "id": "Dj_sc74xn8DJ"
      }
    },
    {
      "cell_type": "code",
      "source": [
        "dataset = load_dataset(\"squad_v2\")"
      ],
      "metadata": {
        "id": "YqXXcul6n50y"
      },
      "execution_count": 29,
      "outputs": []
    },
    {
      "cell_type": "code",
      "source": [
        "random_choices = np.random.choice(len(dataset['train']['context']), 15)\n",
        "question = []\n",
        "context = []\n",
        "ground_truth = []\n",
        "for choice in range(0,15):\n",
        "  q = dataset[\"train\"][\"question\"][choice]\n",
        "  c = dataset[\"train\"][\"context\"][choice]\n",
        "  a = dataset[\"train\"][\"answers\"][choice]\n",
        "  question.append(q)\n",
        "  context.append(c)\n",
        "  ground_truth.append(a)\n",
        "print('Number of Questions = ',len(question))\n",
        "print('Number of Contexts = ',len(context))\n",
        "print('Number of Answers = ',len(ground_truth))"
      ],
      "metadata": {
        "id": "2eNXMwagoE27",
        "colab": {
          "base_uri": "https://localhost:8080/"
        },
        "outputId": "8d079c38-a187-4b78-b887-6898fce46e3c"
      },
      "execution_count": 95,
      "outputs": [
        {
          "output_type": "stream",
          "name": "stdout",
          "text": [
            "Number of Questions =  15\n",
            "Number of Contexts =  15\n",
            "Number of Answers =  15\n"
          ]
        }
      ]
    },
    {
      "cell_type": "markdown",
      "source": [
        "### Data Statistics"
      ],
      "metadata": {
        "id": "_H5TlPLWotr2"
      }
    },
    {
      "cell_type": "code",
      "source": [
        "context_len = []\n",
        "question_len = []\n",
        "answer_len = []\n",
        "\n",
        "for i in range(len(context)):\n",
        "  context_len.append(len(context[i]))\n",
        "  question_len.append(len(question[i]))\n",
        "  answer_len.append(len(answer[i]['text']))"
      ],
      "metadata": {
        "id": "QMfqsfrYoveD"
      },
      "execution_count": 70,
      "outputs": []
    },
    {
      "cell_type": "code",
      "source": [
        "print(\"------CONTEXT STATS----------\")\n",
        "print(\"Maximum length of contexts = \", np.max(context_len))\n",
        "print(\"Minimum length of contexts = \", np.min(context_len))\n",
        "print(\"Average length of contexts = \", np.average(context_len))\n",
        "\n",
        "print(\"------QUESTION STATS----------\")\n",
        "print(\"Maximum length of questions = \", np.max(question_len))\n",
        "print(\"Minimum length of questions = \", np.min(question_len))\n",
        "print(\"Average length of questions = \", np.average(question_len))\n",
        "\n",
        "print(\"------ANSWER STATS----------\")\n",
        "print(\"Maximum length of answers = \", np.max(answer_len))\n",
        "print(\"Minimum length of answers = \", np.min(answer_len))\n",
        "print(\"Average length of answers = \", np.average(answer_len))"
      ],
      "metadata": {
        "colab": {
          "base_uri": "https://localhost:8080/"
        },
        "id": "lIIxNj-oox_U",
        "outputId": "c4965fa9-931c-435e-f11c-da9492f73d57"
      },
      "execution_count": 71,
      "outputs": [
        {
          "output_type": "stream",
          "name": "stdout",
          "text": [
            "------CONTEXT STATS----------\n",
            "Maximum length of contexts =  694\n",
            "Minimum length of contexts =  694\n",
            "Average length of contexts =  694.0\n",
            "------QUESTION STATS----------\n",
            "Maximum length of questions =  64\n",
            "Minimum length of questions =  30\n",
            "Average length of questions =  47.266666666666666\n",
            "------ANSWER STATS----------\n",
            "Maximum length of answers =  1\n",
            "Minimum length of answers =  1\n",
            "Average length of answers =  1.0\n"
          ]
        }
      ]
    },
    {
      "cell_type": "markdown",
      "source": [
        "### RoBERTa model implementation"
      ],
      "metadata": {
        "id": "RYezDyDMohQG"
      }
    },
    {
      "cell_type": "code",
      "source": [
        "# Initializing the tokenizer and model\n",
        "tokenizer = AutoTokenizer.from_pretrained(\"deepset/roberta-base-squad2\")\n",
        "model = RobertaForQuestionAnswering.from_pretrained(\"deepset/roberta-base-squad2\")"
      ],
      "metadata": {
        "id": "AYwo3o71n-IW"
      },
      "execution_count": 72,
      "outputs": []
    },
    {
      "cell_type": "code",
      "source": [
        "# Tokenizing the inputs\n",
        "inputs = tokenizer(question, context, padding=True, truncation=True, return_tensors=\"pt\")\n",
        "\n",
        "# Feeding the inputs to the model\n",
        "with torch.no_grad():\n",
        "    outputs = model(**inputs)\n",
        "# Checking for output contents\n",
        "outputs.keys()"
      ],
      "metadata": {
        "colab": {
          "base_uri": "https://localhost:8080/"
        },
        "id": "ihaz8hN5obx4",
        "outputId": "12ab327b-0d0a-4e08-b432-e65b3e79fdcc"
      },
      "execution_count": 73,
      "outputs": [
        {
          "output_type": "execute_result",
          "data": {
            "text/plain": [
              "odict_keys(['start_logits', 'end_logits'])"
            ]
          },
          "metadata": {},
          "execution_count": 73
        }
      ]
    },
    {
      "cell_type": "code",
      "source": [
        "answer_start_index = []\n",
        "answer_end_index = []\n",
        "for i in range(len(outputs.start_logits)):\n",
        "  # Storing the start and end logits\n",
        "  answer_start = torch.argmax(outputs.start_logits[i])\n",
        "  answer_end = torch.argmax(outputs.end_logits[i])\n",
        "  answer_start_index.append(answer_start)\n",
        "  answer_end_index.append(answer_end)"
      ],
      "metadata": {
        "id": "5NNxqXyYpUF8"
      },
      "execution_count": 74,
      "outputs": []
    },
    {
      "cell_type": "code",
      "source": [
        "decoded_output = []\n",
        "predict_answer_tokens = []\n",
        "predict_answer_tensors = []\n",
        "for i in range(len(inputs['input_ids'])):\n",
        "  # Predicting answer tokens\n",
        "  pred_tokens = tokenizer.convert_ids_to_tokens(inputs['input_ids'][i, answer_start_index[i] : answer_end_index[i] + 1])\n",
        "  predict_answer_tokens.append(pred_tokens)\n",
        "  # Converting tokens to string\n",
        "  answer = tokenizer.convert_tokens_to_string(pred_tokens)\n",
        "  decoded_output.append(answer)\n"
      ],
      "metadata": {
        "id": "7OgL_hp8pwuc"
      },
      "execution_count": 75,
      "outputs": []
    },
    {
      "cell_type": "code",
      "source": [
        "for i in range(len(question)):\n",
        "  print(\"Context : \", context[i])\n",
        "  print(\"Question : \", question[i])\n",
        "  print(\"Answer start index : \",answer_start_index[i])\n",
        "  print(\"Answer end index : \",answer_end_index[i])\n",
        "  print(\"Predicted answer tokens : \", predict_answer_tokens[i])\n",
        "  print(\"Decoded answer : \", decoded_output[i])\n",
        "  print(\"---------------------------\")\n"
      ],
      "metadata": {
        "colab": {
          "base_uri": "https://localhost:8080/"
        },
        "id": "JJG_iXbydtwi",
        "outputId": "5c48636f-97f8-4c31-ca97-b2db8ed7601c"
      },
      "execution_count": 76,
      "outputs": [
        {
          "output_type": "stream",
          "name": "stdout",
          "text": [
            "Context :  Beyoncé Giselle Knowles-Carter (/biːˈjɒnseɪ/ bee-YON-say) (born September 4, 1981) is an American singer, songwriter, record producer and actress. Born and raised in Houston, Texas, she performed in various singing and dancing competitions as a child, and rose to fame in the late 1990s as lead singer of R&B girl-group Destiny's Child. Managed by her father, Mathew Knowles, the group became one of the world's best-selling girl groups of all time. Their hiatus saw the release of Beyoncé's debut album, Dangerously in Love (2003), which established her as a solo artist worldwide, earned five Grammy Awards and featured the Billboard Hot 100 number-one singles \"Crazy in Love\" and \"Baby Boy\".\n",
            "Question :  When did Beyonce start becoming popular?\n",
            "Answer start index :  tensor(87)\n",
            "Answer end index :  tensor(89)\n",
            "Predicted answer tokens :  ['Ġlate', 'Ġ1990', 's']\n",
            "Decoded answer :   late 1990s\n",
            "---------------------------\n",
            "Context :  Beyoncé Giselle Knowles-Carter (/biːˈjɒnseɪ/ bee-YON-say) (born September 4, 1981) is an American singer, songwriter, record producer and actress. Born and raised in Houston, Texas, she performed in various singing and dancing competitions as a child, and rose to fame in the late 1990s as lead singer of R&B girl-group Destiny's Child. Managed by her father, Mathew Knowles, the group became one of the world's best-selling girl groups of all time. Their hiatus saw the release of Beyoncé's debut album, Dangerously in Love (2003), which established her as a solo artist worldwide, earned five Grammy Awards and featured the Billboard Hot 100 number-one singles \"Crazy in Love\" and \"Baby Boy\".\n",
            "Question :  What areas did Beyonce compete in when she was growing up?\n",
            "Answer start index :  tensor(78)\n",
            "Answer end index :  tensor(80)\n",
            "Predicted answer tokens :  ['Ġsinging', 'Ġand', 'Ġdancing']\n",
            "Decoded answer :   singing and dancing\n",
            "---------------------------\n",
            "Context :  Beyoncé Giselle Knowles-Carter (/biːˈjɒnseɪ/ bee-YON-say) (born September 4, 1981) is an American singer, songwriter, record producer and actress. Born and raised in Houston, Texas, she performed in various singing and dancing competitions as a child, and rose to fame in the late 1990s as lead singer of R&B girl-group Destiny's Child. Managed by her father, Mathew Knowles, the group became one of the world's best-selling girl groups of all time. Their hiatus saw the release of Beyoncé's debut album, Dangerously in Love (2003), which established her as a solo artist worldwide, earned five Grammy Awards and featured the Billboard Hot 100 number-one singles \"Crazy in Love\" and \"Baby Boy\".\n",
            "Question :  When did Beyonce leave Destiny's Child and become a solo singer?\n",
            "Answer start index :  tensor(155)\n",
            "Answer end index :  tensor(155)\n",
            "Predicted answer tokens :  ['2003']\n",
            "Decoded answer :  2003\n",
            "---------------------------\n",
            "Context :  Beyoncé Giselle Knowles-Carter (/biːˈjɒnseɪ/ bee-YON-say) (born September 4, 1981) is an American singer, songwriter, record producer and actress. Born and raised in Houston, Texas, she performed in various singing and dancing competitions as a child, and rose to fame in the late 1990s as lead singer of R&B girl-group Destiny's Child. Managed by her father, Mathew Knowles, the group became one of the world's best-selling girl groups of all time. Their hiatus saw the release of Beyoncé's debut album, Dangerously in Love (2003), which established her as a solo artist worldwide, earned five Grammy Awards and featured the Billboard Hot 100 number-one singles \"Crazy in Love\" and \"Baby Boy\".\n",
            "Question :  In what city and state did Beyonce  grow up? \n",
            "Answer start index :  tensor(72)\n",
            "Answer end index :  tensor(72)\n",
            "Predicted answer tokens :  ['ĠTexas']\n",
            "Decoded answer :   Texas\n",
            "---------------------------\n",
            "Context :  Beyoncé Giselle Knowles-Carter (/biːˈjɒnseɪ/ bee-YON-say) (born September 4, 1981) is an American singer, songwriter, record producer and actress. Born and raised in Houston, Texas, she performed in various singing and dancing competitions as a child, and rose to fame in the late 1990s as lead singer of R&B girl-group Destiny's Child. Managed by her father, Mathew Knowles, the group became one of the world's best-selling girl groups of all time. Their hiatus saw the release of Beyoncé's debut album, Dangerously in Love (2003), which established her as a solo artist worldwide, earned five Grammy Awards and featured the Billboard Hot 100 number-one singles \"Crazy in Love\" and \"Baby Boy\".\n",
            "Question :  In which decade did Beyonce become famous?\n",
            "Answer start index :  tensor(89)\n",
            "Answer end index :  tensor(90)\n",
            "Predicted answer tokens :  ['Ġ1990', 's']\n",
            "Decoded answer :   1990s\n",
            "---------------------------\n",
            "Context :  Beyoncé Giselle Knowles-Carter (/biːˈjɒnseɪ/ bee-YON-say) (born September 4, 1981) is an American singer, songwriter, record producer and actress. Born and raised in Houston, Texas, she performed in various singing and dancing competitions as a child, and rose to fame in the late 1990s as lead singer of R&B girl-group Destiny's Child. Managed by her father, Mathew Knowles, the group became one of the world's best-selling girl groups of all time. Their hiatus saw the release of Beyoncé's debut album, Dangerously in Love (2003), which established her as a solo artist worldwide, earned five Grammy Awards and featured the Billboard Hot 100 number-one singles \"Crazy in Love\" and \"Baby Boy\".\n",
            "Question :  In what R&B group was she the lead singer?\n",
            "Answer start index :  tensor(104)\n",
            "Answer end index :  tensor(106)\n",
            "Predicted answer tokens :  ['ĠDestiny', \"'s\", 'ĠChild']\n",
            "Decoded answer :   Destiny's Child\n",
            "---------------------------\n",
            "Context :  Beyoncé Giselle Knowles-Carter (/biːˈjɒnseɪ/ bee-YON-say) (born September 4, 1981) is an American singer, songwriter, record producer and actress. Born and raised in Houston, Texas, she performed in various singing and dancing competitions as a child, and rose to fame in the late 1990s as lead singer of R&B girl-group Destiny's Child. Managed by her father, Mathew Knowles, the group became one of the world's best-selling girl groups of all time. Their hiatus saw the release of Beyoncé's debut album, Dangerously in Love (2003), which established her as a solo artist worldwide, earned five Grammy Awards and featured the Billboard Hot 100 number-one singles \"Crazy in Love\" and \"Baby Boy\".\n",
            "Question :  What album made her a worldwide known artist?\n",
            "Answer start index :  tensor(145)\n",
            "Answer end index :  tensor(148)\n",
            "Predicted answer tokens :  ['ĠDanger', 'ously', 'Ġin', 'ĠLove']\n",
            "Decoded answer :   Dangerously in Love\n",
            "---------------------------\n",
            "Context :  Beyoncé Giselle Knowles-Carter (/biːˈjɒnseɪ/ bee-YON-say) (born September 4, 1981) is an American singer, songwriter, record producer and actress. Born and raised in Houston, Texas, she performed in various singing and dancing competitions as a child, and rose to fame in the late 1990s as lead singer of R&B girl-group Destiny's Child. Managed by her father, Mathew Knowles, the group became one of the world's best-selling girl groups of all time. Their hiatus saw the release of Beyoncé's debut album, Dangerously in Love (2003), which established her as a solo artist worldwide, earned five Grammy Awards and featured the Billboard Hot 100 number-one singles \"Crazy in Love\" and \"Baby Boy\".\n",
            "Question :  Who managed the Destiny's Child group?\n",
            "Answer start index :  tensor(110)\n",
            "Answer end index :  tensor(113)\n",
            "Predicted answer tokens :  ['ĠMat', 'hew', 'ĠKnow', 'les']\n",
            "Decoded answer :   Mathew Knowles\n",
            "---------------------------\n",
            "Context :  Beyoncé Giselle Knowles-Carter (/biːˈjɒnseɪ/ bee-YON-say) (born September 4, 1981) is an American singer, songwriter, record producer and actress. Born and raised in Houston, Texas, she performed in various singing and dancing competitions as a child, and rose to fame in the late 1990s as lead singer of R&B girl-group Destiny's Child. Managed by her father, Mathew Knowles, the group became one of the world's best-selling girl groups of all time. Their hiatus saw the release of Beyoncé's debut album, Dangerously in Love (2003), which established her as a solo artist worldwide, earned five Grammy Awards and featured the Billboard Hot 100 number-one singles \"Crazy in Love\" and \"Baby Boy\".\n",
            "Question :  When did Beyoncé rise to fame?\n",
            "Answer start index :  tensor(87)\n",
            "Answer end index :  tensor(89)\n",
            "Predicted answer tokens :  ['Ġlate', 'Ġ1990', 's']\n",
            "Decoded answer :   late 1990s\n",
            "---------------------------\n",
            "Context :  Beyoncé Giselle Knowles-Carter (/biːˈjɒnseɪ/ bee-YON-say) (born September 4, 1981) is an American singer, songwriter, record producer and actress. Born and raised in Houston, Texas, she performed in various singing and dancing competitions as a child, and rose to fame in the late 1990s as lead singer of R&B girl-group Destiny's Child. Managed by her father, Mathew Knowles, the group became one of the world's best-selling girl groups of all time. Their hiatus saw the release of Beyoncé's debut album, Dangerously in Love (2003), which established her as a solo artist worldwide, earned five Grammy Awards and featured the Billboard Hot 100 number-one singles \"Crazy in Love\" and \"Baby Boy\".\n",
            "Question :  What role did Beyoncé have in Destiny's Child?\n",
            "Answer start index :  tensor(94)\n",
            "Answer end index :  tensor(95)\n",
            "Predicted answer tokens :  ['Ġlead', 'Ġsinger']\n",
            "Decoded answer :   lead singer\n",
            "---------------------------\n",
            "Context :  Beyoncé Giselle Knowles-Carter (/biːˈjɒnseɪ/ bee-YON-say) (born September 4, 1981) is an American singer, songwriter, record producer and actress. Born and raised in Houston, Texas, she performed in various singing and dancing competitions as a child, and rose to fame in the late 1990s as lead singer of R&B girl-group Destiny's Child. Managed by her father, Mathew Knowles, the group became one of the world's best-selling girl groups of all time. Their hiatus saw the release of Beyoncé's debut album, Dangerously in Love (2003), which established her as a solo artist worldwide, earned five Grammy Awards and featured the Billboard Hot 100 number-one singles \"Crazy in Love\" and \"Baby Boy\".\n",
            "Question :  What was the first album Beyoncé released as a solo artist?\n",
            "Answer start index :  tensor(149)\n",
            "Answer end index :  tensor(152)\n",
            "Predicted answer tokens :  ['ĠDanger', 'ously', 'Ġin', 'ĠLove']\n",
            "Decoded answer :   Dangerously in Love\n",
            "---------------------------\n",
            "Context :  Beyoncé Giselle Knowles-Carter (/biːˈjɒnseɪ/ bee-YON-say) (born September 4, 1981) is an American singer, songwriter, record producer and actress. Born and raised in Houston, Texas, she performed in various singing and dancing competitions as a child, and rose to fame in the late 1990s as lead singer of R&B girl-group Destiny's Child. Managed by her father, Mathew Knowles, the group became one of the world's best-selling girl groups of all time. Their hiatus saw the release of Beyoncé's debut album, Dangerously in Love (2003), which established her as a solo artist worldwide, earned five Grammy Awards and featured the Billboard Hot 100 number-one singles \"Crazy in Love\" and \"Baby Boy\".\n",
            "Question :  When did Beyoncé release Dangerously in Love?\n",
            "Answer start index :  tensor(151)\n",
            "Answer end index :  tensor(151)\n",
            "Predicted answer tokens :  ['2003']\n",
            "Decoded answer :  2003\n",
            "---------------------------\n",
            "Context :  Beyoncé Giselle Knowles-Carter (/biːˈjɒnseɪ/ bee-YON-say) (born September 4, 1981) is an American singer, songwriter, record producer and actress. Born and raised in Houston, Texas, she performed in various singing and dancing competitions as a child, and rose to fame in the late 1990s as lead singer of R&B girl-group Destiny's Child. Managed by her father, Mathew Knowles, the group became one of the world's best-selling girl groups of all time. Their hiatus saw the release of Beyoncé's debut album, Dangerously in Love (2003), which established her as a solo artist worldwide, earned five Grammy Awards and featured the Billboard Hot 100 number-one singles \"Crazy in Love\" and \"Baby Boy\".\n",
            "Question :  How many Grammy awards did Beyoncé win for her first solo album?\n",
            "Answer start index :  tensor(167)\n",
            "Answer end index :  tensor(167)\n",
            "Predicted answer tokens :  ['Ġfive']\n",
            "Decoded answer :   five\n",
            "---------------------------\n",
            "Context :  Beyoncé Giselle Knowles-Carter (/biːˈjɒnseɪ/ bee-YON-say) (born September 4, 1981) is an American singer, songwriter, record producer and actress. Born and raised in Houston, Texas, she performed in various singing and dancing competitions as a child, and rose to fame in the late 1990s as lead singer of R&B girl-group Destiny's Child. Managed by her father, Mathew Knowles, the group became one of the world's best-selling girl groups of all time. Their hiatus saw the release of Beyoncé's debut album, Dangerously in Love (2003), which established her as a solo artist worldwide, earned five Grammy Awards and featured the Billboard Hot 100 number-one singles \"Crazy in Love\" and \"Baby Boy\".\n",
            "Question :  What was Beyoncé's role in Destiny's Child?\n",
            "Answer start index :  tensor(94)\n",
            "Answer end index :  tensor(95)\n",
            "Predicted answer tokens :  ['Ġlead', 'Ġsinger']\n",
            "Decoded answer :   lead singer\n",
            "---------------------------\n",
            "Context :  Beyoncé Giselle Knowles-Carter (/biːˈjɒnseɪ/ bee-YON-say) (born September 4, 1981) is an American singer, songwriter, record producer and actress. Born and raised in Houston, Texas, she performed in various singing and dancing competitions as a child, and rose to fame in the late 1990s as lead singer of R&B girl-group Destiny's Child. Managed by her father, Mathew Knowles, the group became one of the world's best-selling girl groups of all time. Their hiatus saw the release of Beyoncé's debut album, Dangerously in Love (2003), which established her as a solo artist worldwide, earned five Grammy Awards and featured the Billboard Hot 100 number-one singles \"Crazy in Love\" and \"Baby Boy\".\n",
            "Question :  What was the name of Beyoncé's first solo album?\n",
            "Answer start index :  tensor(148)\n",
            "Answer end index :  tensor(151)\n",
            "Predicted answer tokens :  ['ĠDanger', 'ously', 'Ġin', 'ĠLove']\n",
            "Decoded answer :   Dangerously in Love\n",
            "---------------------------\n"
          ]
        }
      ]
    },
    {
      "cell_type": "markdown",
      "source": [
        "## CHAT GPT for Question Answering\n",
        "\n",
        "Based on the context, following questions were asked to CHAT GPT.\n"
      ],
      "metadata": {
        "id": "8lgpfQoLsjF7"
      }
    },
    {
      "cell_type": "code",
      "source": [
        "context[0]"
      ],
      "metadata": {
        "colab": {
          "base_uri": "https://localhost:8080/",
          "height": 67
        },
        "id": "p63nDX9ZrdmQ",
        "outputId": "ab5f322b-93b5-40da-ab00-1c814f4d8ac8"
      },
      "execution_count": 80,
      "outputs": [
        {
          "output_type": "execute_result",
          "data": {
            "text/plain": [
              "'Beyoncé Giselle Knowles-Carter (/biːˈjɒnseɪ/ bee-YON-say) (born September 4, 1981) is an American singer, songwriter, record producer and actress. Born and raised in Houston, Texas, she performed in various singing and dancing competitions as a child, and rose to fame in the late 1990s as lead singer of R&B girl-group Destiny\\'s Child. Managed by her father, Mathew Knowles, the group became one of the world\\'s best-selling girl groups of all time. Their hiatus saw the release of Beyoncé\\'s debut album, Dangerously in Love (2003), which established her as a solo artist worldwide, earned five Grammy Awards and featured the Billboard Hot 100 number-one singles \"Crazy in Love\" and \"Baby Boy\".'"
            ],
            "application/vnd.google.colaboratory.intrinsic+json": {
              "type": "string"
            }
          },
          "metadata": {},
          "execution_count": 80
        }
      ]
    },
    {
      "cell_type": "markdown",
      "source": [
        "Question 1 : Based on the context, When did Beyonce start becoming popular?Answer should be 2 words\n",
        "\n",
        "Answer : Late 1990s\n",
        "\n",
        "Question 2 : Based on the context, What areas did Beyonce compete in when she was growing up? Answer should be 3 words\n",
        "\n",
        "Answer : Singing and dancing\n",
        "\n",
        "Question 3 : Based on the context, When did Beyonce leave Destiny's Child and become a solo singer?\n",
        "\n",
        "Answer : During hiatus\n",
        "\n",
        "Question 4 : Based on the context, In what city and state did Beyonce  grow up?\n",
        "\n",
        "Answer : Houston, Texas\n",
        "\n",
        "Question 5 : Based on the context, In which decade did Beyonce become famous?\n",
        "\n",
        "Answer : Late 1990s\n",
        "\n",
        "Question 6 : Based on the context, In what R&B group was she the lead singer?\n",
        "\n",
        "Answer : Destiny's Child\n",
        "\n",
        "Question 7 : Based on the context, What album made her a worldwide known artist?\n",
        "\n",
        "Answer : \"Dangerously in Love\"\n",
        "\n",
        "Question 8 : Based on the context, Who managed the Destiny's Child group?\n",
        "\n",
        "Answer : Mathew Knowles\n",
        "\n",
        "Questions 9 : Based on the context, When did Beyoncé rise to fame?\n",
        "\n",
        "Answer : Late 1990s\n",
        "\n",
        "Quesiton 10 : Based on the context. What role did Beyoncé have in Destiny's Child?\n",
        "\n",
        "Answer : Lead singer\n",
        "\n",
        "Question 11 : Based on the context, What was the first album Beyoncé released as a solo artist?\n",
        "\n",
        "Answer : \"Dangerously in Love\"\n",
        "\n",
        "Question 12 : Based on the context, Which songss featured the Billboard Hot 100 number-one singles\n",
        "\n",
        "Answer : The Billboard Hot 100 number-one singles featured in Beyoncé's debut solo album \"Dangerously in Love\" are \"Crazy in Love\" and \"Baby Boy.\"\n",
        "\n",
        "Question 13 : Based on the context, who was mathew knowles?\n",
        "\n",
        "Answer : Matthew Knowles, often referred to as Mathew Knowles, is the father of Beyoncé Knowles-Carter and was also her manager, as well as the manager of Destiny's Child.\n",
        "\n",
        "Question 14 : Based on the context, what is Beyoncé relation to Houston, Texas?\n",
        "\n",
        "Answer : Beyoncé was born and raised in Houston, Texas.\n",
        "\n",
        "Question 15 : Based on the context, what year was \"Dangerously in Love\" released?\n",
        "\n",
        "Answer : \"Dangerously in Love\" by Beyoncé was released in 2003."
      ],
      "metadata": {
        "id": "50cH4HlC-yOB"
      }
    },
    {
      "cell_type": "markdown",
      "source": [
        "## Claude AI for Question Answering\n",
        "\n",
        "Based on context, following questions wer easked to Claude AI."
      ],
      "metadata": {
        "id": "fy6HNmw3CU3q"
      }
    },
    {
      "cell_type": "code",
      "source": [
        "context[0]"
      ],
      "metadata": {
        "colab": {
          "base_uri": "https://localhost:8080/",
          "height": 67
        },
        "id": "81A-s5mmsuog",
        "outputId": "db259980-a3e5-43bf-c9d9-74ed791364b0"
      },
      "execution_count": 81,
      "outputs": [
        {
          "output_type": "execute_result",
          "data": {
            "text/plain": [
              "'Beyoncé Giselle Knowles-Carter (/biːˈjɒnseɪ/ bee-YON-say) (born September 4, 1981) is an American singer, songwriter, record producer and actress. Born and raised in Houston, Texas, she performed in various singing and dancing competitions as a child, and rose to fame in the late 1990s as lead singer of R&B girl-group Destiny\\'s Child. Managed by her father, Mathew Knowles, the group became one of the world\\'s best-selling girl groups of all time. Their hiatus saw the release of Beyoncé\\'s debut album, Dangerously in Love (2003), which established her as a solo artist worldwide, earned five Grammy Awards and featured the Billboard Hot 100 number-one singles \"Crazy in Love\" and \"Baby Boy\".'"
            ],
            "application/vnd.google.colaboratory.intrinsic+json": {
              "type": "string"
            }
          },
          "metadata": {},
          "execution_count": 81
        }
      ]
    },
    {
      "cell_type": "markdown",
      "source": [
        "Question 1 : Based on the context, When did Beyonce start becoming popular?Answer should be 2 words\n",
        "\n",
        "Answer : Based on the context provided, it states that Beyoncé \"rose to fame in the late 1990s as lead singer of R&B girl-group Destiny's Child\". So the timeframe when she started becoming popular was in the \"late 1990s\".\n",
        "To summarize the 2-word timeframe for when Beyoncé began gaining widespread popularity and fame:\n",
        "Late 1990s\n",
        "\n",
        "Question 2 : Based on the context, What areas did Beyonce compete in when she was growing up? Answer should be 3 words\n",
        "\n",
        "Answer : In the given background context, it states that Beyoncé \"performed in various singing and dancing competitions as a child\".\n",
        "Therefore, answering this question based on the context provided, Beyoncé competed in:\n",
        "\"singing and dancing\"\n",
        "So the 3 words summarizing what types of areas Beyoncé competed in as a child are: singing and dancing\n",
        "\n",
        "Question 3 : Based on the context, When did Beyonce leave Destiny's Child and become a solo singer?\n",
        "\n",
        "Answer : In the provided context, it states:\n",
        "\"Their hiatus saw the release of Beyoncé’s debut album, Dangerously in Love (2003), which established her as a solo artist worldwide...\"\n",
        "This tells us that Destiny's Child took a hiatus (a break) and around 2003 is when Beyoncé left the group to pursue her solo singing career with the release of her debut solo album \"Dangerously in Love\" in 2003.\n",
        "Therefore, based on the given context, Beyoncé left Destiny's Child and became a solo singer in 2003.\n",
        "\n",
        "Question 4 : Based on the context, In what city and state did Beyonce grow up?\n",
        "\n",
        "Answer : In the background context provided, it states that Beyoncé \"Born and raised in Houston, Texas\".\n",
        "Therefore, the city and state where Beyoncé grew up, based on the given biographical information, is:\n",
        "Houston, Texas\n",
        "So the answer for where Beyoncé was raised, per the context, is that she grew up in Houston, Texas.\n",
        "\n",
        "Question 5 : Based on the context, In which decade did Beyonce become famous?\n",
        "\n",
        "Answer : In the context provided about Beyoncé's background, it states she \"rose to fame in the late 1990s as lead singer of R&B girl-group Destiny's Child\".\n",
        "The late 1990s refers to the latter part of the 1990-1999 decade. So based on this contextual information, the decade when Beyoncé attained fame and became well-known is:\n",
        "The 1990s\n",
        "Therefore, the answer for the decade Beyoncé became famous, according to the details given, is the 1990s.\n",
        "\n",
        "Question 6 : Based on the context, In what R&B group was she the lead singer?\n",
        "\n",
        "Answer : In the provided background context on Beyoncé's career, it clearly states that she \"rose to fame in the late 1990s as lead singer of R&B girl-group Destiny's Child\".\n",
        "Therefore, the R&B group where she was the lead singer, based on this context, was:\n",
        "Destiny's Child\n",
        "So the answer is that Beyoncé was the lead singer of the R&B girl group called Destiny's Child.\n",
        "\n",
        "Question 7 : Based on the context, What album made her a worldwide known artist?\n",
        "\n",
        "Answer : In the context provided, it states:\n",
        "\"Their hiatus saw the release of Beyoncé’s debut album, Dangerously in Love (2003), which established her as a solo artist worldwide...\"\n",
        "So her debut solo album \"Dangerously in Love\" released in 2003 is credited with establishing Beyoncé as an artist known worldwide.\n",
        "Therefore, based on this contextual information, the album that made Beyoncé a worldwide known solo artist was:\n",
        "Dangerously in Love\n",
        "\n",
        "Question 8 : Based on the context, Who managed the Destiny's Child group?\n",
        "\n",
        "Answer : Based on the context provided, Destiny's Child was managed by Beyoncé's father, Mathew Knowles. Specifically, the passage states:\n",
        "\"Managed by her father, Mathew Knowles, the group became one of the world's best-selling girl groups of all time.\"\n",
        "So Mathew Knowles was the manager of the highly successful 1990s girl group Destiny's Child, which launched his daughter Beyoncé's singing career.\n",
        "\n",
        "Questions 9 : Based on the context, When did Beyoncé rise to fame?\n",
        "\n",
        "Answer : Based on the information in the provided context, Beyoncé rose to fame in the late 1990s as the lead singer of Destiny's Child. Specifically, the context states:\n",
        "\"Born and raised in Houston, Texas, she performed in various singing and dancing competitions as a child, and rose to fame in the late 1990s as lead singer of R&B girl-group Destiny's Child.\"\n",
        "So Beyoncé transitioned from competing in singing/dancing competitions as a child in Houston, to hitting stardom with Destiny's Child in the late 1990s as their lead singer. That time period in the late '90s is when she initially rose to widespread fame.\n",
        "\n",
        "\n",
        "Quesiton 10 : Based on the context. What role did Beyoncé have in Destiny's Child?\n",
        "\n",
        "Answer : Based on the context provided, Beyoncé was the lead singer of Destiny's Child. The passage specifically states:\n",
        "\"and rose to fame in the late 1990s as lead singer of R&B girl-group Destiny\\'s Child.\"\n",
        "So Beyoncé's role in the highly successful girl group Destiny's Child was serving as their lead vocalist. The context confirms that she sang lead vocals for the group as they rose to fame together in the late 1990s before she later embarked on a solo career.\n",
        "\n",
        "Question 11 : Based on the context, What was the first album Beyoncé released as a solo artist?\n",
        "\n",
        "Answer : Based on the information in the provided context, the first album Beyoncé released as a solo artist was \"Dangerously in Love\" in 2003.\n",
        "The passage states:\n",
        "\"Their hiatus saw the release of Beyoncé’s debut album, Dangerously in Love (2003), which established her as a solo artist worldwide...\"\n",
        "So after Destiny's Child went on hiatus, Beyoncé released her debut and first solo studio album in 2003 titled \"Dangerously in Love\". This album is credited with cementing her status as an international solo superstar in her own right.\n",
        "Therefore, \"Dangerously in Love\" was the name of Beyoncé's first album released as a solo musical artist after her time with Destiny's Child.\n",
        "\n",
        "Question 12 : Based on the context, Which songss featured the Billboard Hot 100 number-one singles\n",
        "\n",
        "Answer : Based on the context provided, the Beyoncé songs that featured as number-one Billboard Hot 100 singles were \"Crazy in Love\" and \"Baby Boy\".\n",
        "The passage states:\n",
        "\"earned five Grammy Awards and featured the Billboard Hot 100 number-one singles \"Crazy in Love\" and \"Baby Boy\".\"\n",
        "So her debut solo album \"Dangerously in Love\" produced two hugely popular #1 Billboard hits for Beyoncé - the songs \"Crazy in Love\" and \"Baby Boy\".\n",
        "Therefore, according to the context, \"Crazy in Love\" and \"Baby Boy\" were the two singles from Beyoncé's early solo career that reached #1 on the Billboard Hot 100 chart.\n",
        "\n",
        "Question 13 : Based on the context, who was mathew knowles?\n",
        "\n",
        "Answer : Based on the context provided, Mathew Knowles was Beyoncé's father and the manager of Destiny's Child:\n",
        "\"Managed by her father, Mathew Knowles, the group became one of the world's best-selling girl groups of all time.\"\n",
        "So Mathew Knowles was:\n",
        "Beyoncé's father\n",
        "The manager of the highly successful R&B girl group Destiny's Child, which Beyoncé was part of\n",
        "In his role as Destiny's Child's manager, Mathew Knowles guided the group to become \"one of the world's best-selling girl groups of all time\". He also likely played a key role in nurturing his daughter Beyoncé's talent and helping launch her towards stardom.\n",
        "Therefore, to summarize, Mathew Knowles was Beyoncé's father as well as her Destiny's Child group's manager.\n",
        "\n",
        "Question 14 : Based on the context, what is Beyoncé relation to Houston, Texas?\n",
        "\n",
        "Answer : Based on the details provided in the context, Beyoncé has a close connection to Houston, Texas because she was born and raised there:\n",
        "\"Born and raised in Houston, Texas...\"\n",
        "This clearly states that Houston is Beyoncé's hometown - it's where she was both born and spent her childhood/formative years.\n",
        "The context goes on to detail how her early singing and performance origins trace back to Houston as well:\n",
        "\"she performed in various singing and dancing competitions as a child...\"\n",
        "So Beyoncé first built her talents in Houston by competing locally in singing and dancing contests as a young girl.\n",
        "In summary, Beyoncé has strong ties to Houston as it is both her birthplace and the city where she was raised, and first started participating in the competitions that set the foundation for her eventual rise to superstardom from Destiny's Child onwards. Her relationship to Houston is that it is her hometown on multiple levels.\n",
        "\n",
        "Question 15 : Based on the context, what year was \"Dangerously in Love\" released?\n",
        "\n",
        "Answer : Based on the information provided in the context, Beyoncé's debut solo album \"Dangerously in Love\" was released in 2003.\n",
        "The relevant quote from the passage is:\n",
        "\"Their hiatus saw the release of Beyoncé’s debut album, Dangerously in Love (2003), which established her as a solo artist worldwide...\"\n",
        "The key detail here is the year 2003 provided right after the album title \"Dangerously in Love\", indicating this was the release year for that critically and commercially successful first solo effort of hers.\n",
        "Therefore, to directly answer the question, according to the context, the year Beyoncé's album \"Dangerously in Love\" was released is 2003."
      ],
      "metadata": {
        "id": "ho9AevpHCfEV"
      }
    },
    {
      "cell_type": "markdown",
      "source": [
        "## Result analysis and Evaluation\n",
        "\n",
        "To get an idea of how well each model performs, we can check only one question across all 3 models."
      ],
      "metadata": {
        "id": "sJ9PT2J-GDQg"
      }
    },
    {
      "cell_type": "code",
      "source": [
        "print(\"Ground Truth for first question : \", ground_truth[0])\n"
      ],
      "metadata": {
        "colab": {
          "base_uri": "https://localhost:8080/"
        },
        "id": "DpbGOR6tCeqe",
        "outputId": "81195e50-9f3e-44b7-b551-a914e1d37396"
      },
      "execution_count": 99,
      "outputs": [
        {
          "output_type": "stream",
          "name": "stdout",
          "text": [
            "Ground Truth for first question :  {'text': ['in the late 1990s'], 'answer_start': [269]}\n"
          ]
        }
      ]
    },
    {
      "cell_type": "markdown",
      "source": [
        "Answer from RoBERTa for question 1: late 1990s\n",
        "\n",
        "Answer from CHAT GPT for question 1: Late 1990s\n",
        "\n",
        "Answer from Claude AI for question 1: Based on the context provided, it states that Beyoncé \"rose to fame in the late 1990s as lead singer of R&B girl-group Destiny's Child\". So the timeframe when she started becoming popular was in the \"late 1990s\". To summarize the 2-word timeframe for when Beyoncé began gaining widespread popularity and fame: Late 1990s\n"
      ],
      "metadata": {
        "id": "Om4_pGNsIZCk"
      }
    },
    {
      "cell_type": "code",
      "source": [
        "print(\"Ground Trught for second question : \", ground_truth[1])"
      ],
      "metadata": {
        "colab": {
          "base_uri": "https://localhost:8080/"
        },
        "id": "gqChq30DNUuh",
        "outputId": "65281642-129c-40a6-f04a-100e18904b90"
      },
      "execution_count": 100,
      "outputs": [
        {
          "output_type": "stream",
          "name": "stdout",
          "text": [
            "Ground Trught for second question :  {'text': ['singing and dancing'], 'answer_start': [207]}\n"
          ]
        }
      ]
    },
    {
      "cell_type": "markdown",
      "source": [
        "Answer from RoBERTa for question 2: singing and dancing\n",
        "\n",
        "Answer from CHAT GPT for question 2: Singing and dancing\n",
        "\n",
        "Answer from Claude AI for question 2: In the given background context, it states that Beyoncé \"performed in various singing and dancing competitions as a child\". Therefore, answering this question based on the context provided, Beyoncé competed in: \"singing and dancing\" So the 3 words summarizing what types of areas Beyoncé competed in as a child are: singing and dancing"
      ],
      "metadata": {
        "id": "0OV_EEpoNSeI"
      }
    },
    {
      "cell_type": "markdown",
      "source": [
        "After comparing with the ground truth, we can approximately calculate the performance.\n",
        "\n",
        "RoBERTa : 70% (Grammatical issues since multiple answers do not have proper captilaization. Also multiple answers are incomplete and missing supporting text. The final answer still makes sense)\n",
        "\n",
        "CHAT GPT : 80% (No grammatical issues overall and better punctuation compared to RoBERTa. But still missing a few support words in multiple questions)\n",
        "\n",
        "Claude AI : 100% (No grammatical issues and no missing elements in the outcome)"
      ],
      "metadata": {
        "id": "fcucUi0tN9f8"
      }
    },
    {
      "cell_type": "markdown",
      "source": [
        "## Comparison and Conclusion\n",
        "\n",
        "Out of all 3 models (RoBERTa, CHAT GPT and Claude), Claude performs the best. Followed by CHAT GPT and then RoBERTa.\n",
        "\n",
        "The major reason for performance difference in the model architecture. RoBERTa is a fairly simple model compared to CHAT GPT and Claude. RoBERTa fails to capture long term dependencies and looks only at the tokens which are important.\n",
        "\n",
        "Similarly, CHAT GPT was able to capture better information and better grammatical differences.\n",
        "\n",
        "Claude on the other hand out performed both as it looked at the entire context for the answer and highlighted the answers in the context itself and compiled a final output depending on the prompts.\n",
        "\n",
        "Advantages of pretrained models:\n",
        "   \n",
        "\n",
        "*   Faster to train and generate results as the model is already trained, no compute needed.\n",
        "*   Can have specific domain knowledge built-in through pretraining.\n",
        "*   Can be custom tuned with your own labeled data for your task.\n",
        "*   More predictable results since you start with an existing model.\n",
        "\n",
        "Disadvantages of pretrained models:\n",
        "* Cannot learn and improve beyond initial capabilities.\n",
        "* Require expertise to properly tune and apply models.\n",
        "* Limited flexibility to new data or tasks.\n",
        "\n",
        "\n",
        "Advantages of LLMs:\n",
        "* Can continuously learn and improve with more data/feedback.\n",
        "* One model serves many tasks with fine-tuning.\n",
        "* Requires less labeled data and expertise to apply.\n",
        "\n",
        "\n",
        "Disadvantages of LLMs:\n",
        "* Requires lots of compute time and cost to train from scratch.\n",
        "* Results can be unpredictable until properly tuned.\n",
        "* Potential for biased and harmful model behavior.\n",
        "* Raises issues of model accountability and transparency."
      ],
      "metadata": {
        "id": "_hHk022nKq_r"
      }
    },
    {
      "cell_type": "code",
      "source": [],
      "metadata": {
        "id": "WjWMIMBMQKa_"
      },
      "execution_count": null,
      "outputs": []
    }
  ]
}