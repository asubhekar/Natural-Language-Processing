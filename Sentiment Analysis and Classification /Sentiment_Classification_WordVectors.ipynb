{
 "cells": [
  {
   "cell_type": "markdown",
   "id": "7cbec124",
   "metadata": {
    "id": "7cbec124"
   },
   "source": [
    "# Sentiment Analysis with Text Classification"
   ]
  },
  {
   "cell_type": "markdown",
   "id": "00453e4d",
   "metadata": {
    "id": "00453e4d"
   },
   "source": [
    "# Importing Libraries"
   ]
  },
  {
   "cell_type": "code",
   "execution_count": 314,
   "id": "fa67bca1",
   "metadata": {
    "id": "fa67bca1"
   },
   "outputs": [],
   "source": [
    "import nltk\n",
    "import pandas as pd\n",
    "import numpy as np\n",
    "import string\n",
    "import matplotlib.pyplot as plt\n",
    "from nltk.corpus import stopwords\n",
    "from nltk.tokenize import word_tokenize\n",
    "from sklearn.model_selection import train_test_split\n",
    "from sklearn.decomposition import TruncatedSVD\n",
    "\n",
    "from keras import models\n",
    "from keras import layers\n",
    "from sklearn.linear_model import LogisticRegression\n",
    "\n",
    "from sklearn.metrics import accuracy_score\n",
    "from sklearn.metrics import precision_score\n",
    "from sklearn.metrics import recall_score\n",
    "from sklearn.metrics import f1_score\n",
    "from sklearn.metrics import roc_auc_score"
   ]
  },
  {
   "cell_type": "code",
   "execution_count": null,
   "id": "WYg3__CpBr1K",
   "metadata": {
    "colab": {
     "base_uri": "https://localhost:8080/"
    },
    "id": "WYg3__CpBr1K",
    "outputId": "5835fb4e-20dd-43f8-9d0e-35439892446d"
   },
   "outputs": [
    {
     "name": "stderr",
     "output_type": "stream",
     "text": [
      "[nltk_data] Downloading package stopwords to /root/nltk_data...\n",
      "[nltk_data]   Package stopwords is already up-to-date!\n",
      "[nltk_data] Downloading package punkt to /root/nltk_data...\n",
      "[nltk_data]   Unzipping tokenizers/punkt.zip.\n"
     ]
    },
    {
     "data": {
      "text/plain": [
       "True"
      ]
     },
     "execution_count": 5,
     "metadata": {},
     "output_type": "execute_result"
    }
   ],
   "source": [
    "nltk.download('stopwords')\n",
    "nltk.download('punkt')"
   ]
  },
  {
   "cell_type": "markdown",
   "id": "c53843eb",
   "metadata": {
    "id": "c53843eb"
   },
   "source": [
    "# Task 1: Extracting Features"
   ]
  },
  {
   "cell_type": "markdown",
   "id": "88ee382d",
   "metadata": {
    "id": "88ee382d"
   },
   "source": [
    "## Data Preparation"
   ]
  },
  {
   "cell_type": "markdown",
   "id": "32769084",
   "metadata": {
    "id": "32769084"
   },
   "source": [
    "### Data Preprocessing"
   ]
  },
  {
   "cell_type": "code",
   "execution_count": null,
   "id": "4a955920",
   "metadata": {
    "colab": {
     "base_uri": "https://localhost:8080/"
    },
    "id": "4a955920",
    "outputId": "bb9b34a5-187d-4509-f2a2-a25501c49a4c"
   },
   "outputs": [
    {
     "name": "stderr",
     "output_type": "stream",
     "text": [
      "<ipython-input-147-4bbdb7b180c1>:16: FutureWarning: The default value of regex will change from True to False in a future version.\n",
      "  amazonReviews['reviewText'] = amazonReviews['reviewText'].str.replace('\\d+', '')\n"
     ]
    }
   ],
   "source": [
    "amazonReviews = pd.read_csv('amazon_reviews.csv')\n",
    "amazonReviews = amazonReviews.dropna()\n",
    "amazonReviews.head(5)\n",
    "\n",
    "# lowercasing\n",
    "amazonReviews[\"reviewText\"] = amazonReviews[\"reviewText\"].str.lower()\n",
    "\n",
    "# removing punctuations\n",
    "amazonReviews['reviewText'] = amazonReviews['reviewText'].str.translate(str.maketrans(' ', ' ', string.punctuation))\n",
    "\n",
    "# removing stopwords\n",
    "stop_words = set(stopwords.words('english'))\n",
    "amazonReviews['reviewText'] = amazonReviews['reviewText'].apply(lambda x: ' '.join([word for word in x.split() if word not in stop_words]))\n",
    "\n",
    "# removing numbers\n",
    "amazonReviews['reviewText'] = amazonReviews['reviewText'].str.replace('\\d+', '')\n",
    "\n",
    "# tokenizing\n",
    "amazonReviews['reviewText'] = amazonReviews['reviewText'].apply(lambda x: word_tokenize(x))\n",
    "\n",
    "# changing labels\n",
    "amazonReviews['overall'] = amazonReviews['overall'].apply(lambda x: 1 if x == 4 or x == 5 else -1)"
   ]
  },
  {
   "cell_type": "markdown",
   "id": "3e1c1382",
   "metadata": {
    "id": "3e1c1382"
   },
   "source": [
    "### Data Split"
   ]
  },
  {
   "cell_type": "code",
   "execution_count": null,
   "id": "8c30ad9b",
   "metadata": {
    "id": "8c30ad9b"
   },
   "outputs": [],
   "source": [
    "# splitting data into training, validation, and test set\n",
    "features = amazonReviews['reviewText']\n",
    "target = amazonReviews['overall']\n",
    "X_train, X_test, y_train, y_test = train_test_split(features, target, test_size = 0.1, random_state = 8)\n",
    "X_train, X_val, y_train, y_val = train_test_split(X_train, y_train, test_size = 0.1, random_state = 8)"
   ]
  },
  {
   "cell_type": "markdown",
   "id": "dc07ae1b",
   "metadata": {
    "id": "dc07ae1b"
   },
   "source": [
    "### Data Statistics"
   ]
  },
  {
   "cell_type": "code",
   "execution_count": null,
   "id": "9eff8523",
   "metadata": {
    "colab": {
     "base_uri": "https://localhost:8080/"
    },
    "id": "9eff8523",
    "outputId": "5fafd4c6-2398-4eb9-d97f-29748903dc43"
   },
   "outputs": [
    {
     "name": "stdout",
     "output_type": "stream",
     "text": [
      "Maximum Length of Sentence:  10\n"
     ]
    }
   ],
   "source": [
    "# TODO: later\n",
    "max_length = 0\n",
    "for review in amazonReviews:\n",
    "  if len(review) > max_length:\n",
    "    max_length = len(review)\n",
    "print(\"Maximum Length of Sentence: \", max_length)"
   ]
  },
  {
   "cell_type": "markdown",
   "id": "28242e0c",
   "metadata": {
    "id": "28242e0c"
   },
   "source": [
    "## Representation of Text: word vectors"
   ]
  },
  {
   "cell_type": "markdown",
   "id": "2105e693",
   "metadata": {
    "id": "2105e693"
   },
   "source": [
    "### Count-based word vectors with co-occurence matrix"
   ]
  },
  {
   "cell_type": "code",
   "execution_count": null,
   "id": "391c82bb",
   "metadata": {
    "id": "391c82bb"
   },
   "outputs": [],
   "source": [
    "def get_vocab(corpus):\n",
    "    # considering that we are passing the entire dataset i.e. along with the ratings\n",
    "    vocabulary = [word for review in corpus[\"reviewText\"] for word in review]\n",
    "\n",
    "    return sorted(set(vocabulary))"
   ]
  },
  {
   "cell_type": "code",
   "execution_count": null,
   "id": "c47bf199",
   "metadata": {
    "id": "c47bf199"
   },
   "outputs": [],
   "source": [
    "def compute_co_occurrence_matrix(corpus, window_size = 4):\n",
    "\n",
    "    # obtaining the vocabulary\n",
    "    vocab = get_vocab(corpus)\n",
    "\n",
    "    # creating word2index\n",
    "    word2index = {}\n",
    "    for i in range(len(vocab)):\n",
    "        word2index[vocab[i]] = i\n",
    "\n",
    "    # creating M\n",
    "    M = np.zeros((len(vocab), len(vocab)))\n",
    "    M = pd.DataFrame(data = M)\n",
    "    return M, word2index"
   ]
  },
  {
   "cell_type": "code",
   "execution_count": null,
   "id": "89982009",
   "metadata": {
    "id": "89982009"
   },
   "outputs": [],
   "source": [
    "M, word2index = compute_co_occurrence_matrix(amazonReviews)"
   ]
  },
  {
   "cell_type": "code",
   "execution_count": null,
   "id": "lZTUSllwMWk0",
   "metadata": {
    "colab": {
     "base_uri": "https://localhost:8080/",
     "height": 424
    },
    "id": "lZTUSllwMWk0",
    "outputId": "53c44c0d-ecaf-4809-ebd2-96e5ee15c17c"
   },
   "outputs": [
    {
     "data": {
      "text/html": [
       "\n",
       "  <div id=\"df-bc2f9af5-571a-431d-b002-69b01292cd7e\" class=\"colab-df-container\">\n",
       "    <div>\n",
       "<style scoped>\n",
       "    .dataframe tbody tr th:only-of-type {\n",
       "        vertical-align: middle;\n",
       "    }\n",
       "\n",
       "    .dataframe tbody tr th {\n",
       "        vertical-align: top;\n",
       "    }\n",
       "\n",
       "    .dataframe thead th {\n",
       "        text-align: right;\n",
       "    }\n",
       "</style>\n",
       "<table border=\"1\" class=\"dataframe\">\n",
       "  <thead>\n",
       "    <tr style=\"text-align: right;\">\n",
       "      <th></th>\n",
       "      <th>0</th>\n",
       "      <th>1</th>\n",
       "      <th>2</th>\n",
       "      <th>3</th>\n",
       "      <th>4</th>\n",
       "      <th>5</th>\n",
       "      <th>6</th>\n",
       "      <th>7</th>\n",
       "      <th>8</th>\n",
       "      <th>9</th>\n",
       "      <th>...</th>\n",
       "      <th>9730</th>\n",
       "      <th>9731</th>\n",
       "      <th>9732</th>\n",
       "      <th>9733</th>\n",
       "      <th>9734</th>\n",
       "      <th>9735</th>\n",
       "      <th>9736</th>\n",
       "      <th>9737</th>\n",
       "      <th>9738</th>\n",
       "      <th>9739</th>\n",
       "    </tr>\n",
       "  </thead>\n",
       "  <tbody>\n",
       "    <tr>\n",
       "      <th>0</th>\n",
       "      <td>9.0</td>\n",
       "      <td>0.0</td>\n",
       "      <td>0.0</td>\n",
       "      <td>0.0</td>\n",
       "      <td>0.0</td>\n",
       "      <td>0.0</td>\n",
       "      <td>0.0</td>\n",
       "      <td>0.0</td>\n",
       "      <td>0.0</td>\n",
       "      <td>0.0</td>\n",
       "      <td>...</td>\n",
       "      <td>0.0</td>\n",
       "      <td>0.0</td>\n",
       "      <td>0.0</td>\n",
       "      <td>0.0</td>\n",
       "      <td>0.0</td>\n",
       "      <td>0.0</td>\n",
       "      <td>0.0</td>\n",
       "      <td>0.0</td>\n",
       "      <td>0.0</td>\n",
       "      <td>0.0</td>\n",
       "    </tr>\n",
       "    <tr>\n",
       "      <th>1</th>\n",
       "      <td>0.0</td>\n",
       "      <td>1.0</td>\n",
       "      <td>0.0</td>\n",
       "      <td>0.0</td>\n",
       "      <td>0.0</td>\n",
       "      <td>0.0</td>\n",
       "      <td>0.0</td>\n",
       "      <td>0.0</td>\n",
       "      <td>0.0</td>\n",
       "      <td>0.0</td>\n",
       "      <td>...</td>\n",
       "      <td>0.0</td>\n",
       "      <td>0.0</td>\n",
       "      <td>0.0</td>\n",
       "      <td>0.0</td>\n",
       "      <td>0.0</td>\n",
       "      <td>0.0</td>\n",
       "      <td>0.0</td>\n",
       "      <td>0.0</td>\n",
       "      <td>0.0</td>\n",
       "      <td>0.0</td>\n",
       "    </tr>\n",
       "    <tr>\n",
       "      <th>2</th>\n",
       "      <td>0.0</td>\n",
       "      <td>0.0</td>\n",
       "      <td>1.0</td>\n",
       "      <td>0.0</td>\n",
       "      <td>0.0</td>\n",
       "      <td>0.0</td>\n",
       "      <td>0.0</td>\n",
       "      <td>0.0</td>\n",
       "      <td>0.0</td>\n",
       "      <td>0.0</td>\n",
       "      <td>...</td>\n",
       "      <td>0.0</td>\n",
       "      <td>0.0</td>\n",
       "      <td>0.0</td>\n",
       "      <td>0.0</td>\n",
       "      <td>0.0</td>\n",
       "      <td>0.0</td>\n",
       "      <td>0.0</td>\n",
       "      <td>0.0</td>\n",
       "      <td>0.0</td>\n",
       "      <td>0.0</td>\n",
       "    </tr>\n",
       "    <tr>\n",
       "      <th>3</th>\n",
       "      <td>0.0</td>\n",
       "      <td>0.0</td>\n",
       "      <td>0.0</td>\n",
       "      <td>1.0</td>\n",
       "      <td>0.0</td>\n",
       "      <td>0.0</td>\n",
       "      <td>0.0</td>\n",
       "      <td>0.0</td>\n",
       "      <td>0.0</td>\n",
       "      <td>0.0</td>\n",
       "      <td>...</td>\n",
       "      <td>0.0</td>\n",
       "      <td>0.0</td>\n",
       "      <td>0.0</td>\n",
       "      <td>0.0</td>\n",
       "      <td>0.0</td>\n",
       "      <td>0.0</td>\n",
       "      <td>0.0</td>\n",
       "      <td>0.0</td>\n",
       "      <td>0.0</td>\n",
       "      <td>0.0</td>\n",
       "    </tr>\n",
       "    <tr>\n",
       "      <th>4</th>\n",
       "      <td>0.0</td>\n",
       "      <td>0.0</td>\n",
       "      <td>0.0</td>\n",
       "      <td>0.0</td>\n",
       "      <td>1.0</td>\n",
       "      <td>0.0</td>\n",
       "      <td>0.0</td>\n",
       "      <td>0.0</td>\n",
       "      <td>0.0</td>\n",
       "      <td>0.0</td>\n",
       "      <td>...</td>\n",
       "      <td>0.0</td>\n",
       "      <td>0.0</td>\n",
       "      <td>0.0</td>\n",
       "      <td>0.0</td>\n",
       "      <td>0.0</td>\n",
       "      <td>0.0</td>\n",
       "      <td>0.0</td>\n",
       "      <td>0.0</td>\n",
       "      <td>0.0</td>\n",
       "      <td>0.0</td>\n",
       "    </tr>\n",
       "    <tr>\n",
       "      <th>...</th>\n",
       "      <td>...</td>\n",
       "      <td>...</td>\n",
       "      <td>...</td>\n",
       "      <td>...</td>\n",
       "      <td>...</td>\n",
       "      <td>...</td>\n",
       "      <td>...</td>\n",
       "      <td>...</td>\n",
       "      <td>...</td>\n",
       "      <td>...</td>\n",
       "      <td>...</td>\n",
       "      <td>...</td>\n",
       "      <td>...</td>\n",
       "      <td>...</td>\n",
       "      <td>...</td>\n",
       "      <td>...</td>\n",
       "      <td>...</td>\n",
       "      <td>...</td>\n",
       "      <td>...</td>\n",
       "      <td>...</td>\n",
       "      <td>...</td>\n",
       "    </tr>\n",
       "    <tr>\n",
       "      <th>9735</th>\n",
       "      <td>0.0</td>\n",
       "      <td>0.0</td>\n",
       "      <td>0.0</td>\n",
       "      <td>0.0</td>\n",
       "      <td>0.0</td>\n",
       "      <td>0.0</td>\n",
       "      <td>0.0</td>\n",
       "      <td>0.0</td>\n",
       "      <td>0.0</td>\n",
       "      <td>0.0</td>\n",
       "      <td>...</td>\n",
       "      <td>0.0</td>\n",
       "      <td>0.0</td>\n",
       "      <td>0.0</td>\n",
       "      <td>0.0</td>\n",
       "      <td>0.0</td>\n",
       "      <td>2.0</td>\n",
       "      <td>0.0</td>\n",
       "      <td>0.0</td>\n",
       "      <td>0.0</td>\n",
       "      <td>0.0</td>\n",
       "    </tr>\n",
       "    <tr>\n",
       "      <th>9736</th>\n",
       "      <td>0.0</td>\n",
       "      <td>0.0</td>\n",
       "      <td>0.0</td>\n",
       "      <td>0.0</td>\n",
       "      <td>0.0</td>\n",
       "      <td>0.0</td>\n",
       "      <td>0.0</td>\n",
       "      <td>0.0</td>\n",
       "      <td>0.0</td>\n",
       "      <td>0.0</td>\n",
       "      <td>...</td>\n",
       "      <td>0.0</td>\n",
       "      <td>0.0</td>\n",
       "      <td>0.0</td>\n",
       "      <td>0.0</td>\n",
       "      <td>0.0</td>\n",
       "      <td>0.0</td>\n",
       "      <td>1.0</td>\n",
       "      <td>0.0</td>\n",
       "      <td>0.0</td>\n",
       "      <td>0.0</td>\n",
       "    </tr>\n",
       "    <tr>\n",
       "      <th>9737</th>\n",
       "      <td>0.0</td>\n",
       "      <td>0.0</td>\n",
       "      <td>0.0</td>\n",
       "      <td>0.0</td>\n",
       "      <td>0.0</td>\n",
       "      <td>0.0</td>\n",
       "      <td>0.0</td>\n",
       "      <td>0.0</td>\n",
       "      <td>0.0</td>\n",
       "      <td>0.0</td>\n",
       "      <td>...</td>\n",
       "      <td>0.0</td>\n",
       "      <td>0.0</td>\n",
       "      <td>0.0</td>\n",
       "      <td>0.0</td>\n",
       "      <td>0.0</td>\n",
       "      <td>0.0</td>\n",
       "      <td>0.0</td>\n",
       "      <td>1.0</td>\n",
       "      <td>0.0</td>\n",
       "      <td>0.0</td>\n",
       "    </tr>\n",
       "    <tr>\n",
       "      <th>9738</th>\n",
       "      <td>0.0</td>\n",
       "      <td>0.0</td>\n",
       "      <td>0.0</td>\n",
       "      <td>0.0</td>\n",
       "      <td>0.0</td>\n",
       "      <td>0.0</td>\n",
       "      <td>0.0</td>\n",
       "      <td>0.0</td>\n",
       "      <td>0.0</td>\n",
       "      <td>0.0</td>\n",
       "      <td>...</td>\n",
       "      <td>0.0</td>\n",
       "      <td>0.0</td>\n",
       "      <td>0.0</td>\n",
       "      <td>0.0</td>\n",
       "      <td>0.0</td>\n",
       "      <td>0.0</td>\n",
       "      <td>0.0</td>\n",
       "      <td>0.0</td>\n",
       "      <td>2.0</td>\n",
       "      <td>0.0</td>\n",
       "    </tr>\n",
       "    <tr>\n",
       "      <th>9739</th>\n",
       "      <td>0.0</td>\n",
       "      <td>0.0</td>\n",
       "      <td>0.0</td>\n",
       "      <td>0.0</td>\n",
       "      <td>0.0</td>\n",
       "      <td>0.0</td>\n",
       "      <td>0.0</td>\n",
       "      <td>0.0</td>\n",
       "      <td>0.0</td>\n",
       "      <td>0.0</td>\n",
       "      <td>...</td>\n",
       "      <td>0.0</td>\n",
       "      <td>0.0</td>\n",
       "      <td>0.0</td>\n",
       "      <td>0.0</td>\n",
       "      <td>0.0</td>\n",
       "      <td>0.0</td>\n",
       "      <td>0.0</td>\n",
       "      <td>0.0</td>\n",
       "      <td>0.0</td>\n",
       "      <td>1.0</td>\n",
       "    </tr>\n",
       "  </tbody>\n",
       "</table>\n",
       "<p>9740 rows × 9740 columns</p>\n",
       "</div>\n",
       "    <div class=\"colab-df-buttons\">\n",
       "\n",
       "  <div class=\"colab-df-container\">\n",
       "    <button class=\"colab-df-convert\" onclick=\"convertToInteractive('df-bc2f9af5-571a-431d-b002-69b01292cd7e')\"\n",
       "            title=\"Convert this dataframe to an interactive table.\"\n",
       "            style=\"display:none;\">\n",
       "\n",
       "  <svg xmlns=\"http://www.w3.org/2000/svg\" height=\"24px\" viewBox=\"0 -960 960 960\">\n",
       "    <path d=\"M120-120v-720h720v720H120Zm60-500h600v-160H180v160Zm220 220h160v-160H400v160Zm0 220h160v-160H400v160ZM180-400h160v-160H180v160Zm440 0h160v-160H620v160ZM180-180h160v-160H180v160Zm440 0h160v-160H620v160Z\"/>\n",
       "  </svg>\n",
       "    </button>\n",
       "\n",
       "  <style>\n",
       "    .colab-df-container {\n",
       "      display:flex;\n",
       "      gap: 12px;\n",
       "    }\n",
       "\n",
       "    .colab-df-convert {\n",
       "      background-color: #E8F0FE;\n",
       "      border: none;\n",
       "      border-radius: 50%;\n",
       "      cursor: pointer;\n",
       "      display: none;\n",
       "      fill: #1967D2;\n",
       "      height: 32px;\n",
       "      padding: 0 0 0 0;\n",
       "      width: 32px;\n",
       "    }\n",
       "\n",
       "    .colab-df-convert:hover {\n",
       "      background-color: #E2EBFA;\n",
       "      box-shadow: 0px 1px 2px rgba(60, 64, 67, 0.3), 0px 1px 3px 1px rgba(60, 64, 67, 0.15);\n",
       "      fill: #174EA6;\n",
       "    }\n",
       "\n",
       "    .colab-df-buttons div {\n",
       "      margin-bottom: 4px;\n",
       "    }\n",
       "\n",
       "    [theme=dark] .colab-df-convert {\n",
       "      background-color: #3B4455;\n",
       "      fill: #D2E3FC;\n",
       "    }\n",
       "\n",
       "    [theme=dark] .colab-df-convert:hover {\n",
       "      background-color: #434B5C;\n",
       "      box-shadow: 0px 1px 3px 1px rgba(0, 0, 0, 0.15);\n",
       "      filter: drop-shadow(0px 1px 2px rgba(0, 0, 0, 0.3));\n",
       "      fill: #FFFFFF;\n",
       "    }\n",
       "  </style>\n",
       "\n",
       "    <script>\n",
       "      const buttonEl =\n",
       "        document.querySelector('#df-bc2f9af5-571a-431d-b002-69b01292cd7e button.colab-df-convert');\n",
       "      buttonEl.style.display =\n",
       "        google.colab.kernel.accessAllowed ? 'block' : 'none';\n",
       "\n",
       "      async function convertToInteractive(key) {\n",
       "        const element = document.querySelector('#df-bc2f9af5-571a-431d-b002-69b01292cd7e');\n",
       "        const dataTable =\n",
       "          await google.colab.kernel.invokeFunction('convertToInteractive',\n",
       "                                                    [key], {});\n",
       "        if (!dataTable) return;\n",
       "\n",
       "        const docLinkHtml = 'Like what you see? Visit the ' +\n",
       "          '<a target=\"_blank\" href=https://colab.research.google.com/notebooks/data_table.ipynb>data table notebook</a>'\n",
       "          + ' to learn more about interactive tables.';\n",
       "        element.innerHTML = '';\n",
       "        dataTable['output_type'] = 'display_data';\n",
       "        await google.colab.output.renderOutput(dataTable, element);\n",
       "        const docLink = document.createElement('div');\n",
       "        docLink.innerHTML = docLinkHtml;\n",
       "        element.appendChild(docLink);\n",
       "      }\n",
       "    </script>\n",
       "  </div>\n",
       "\n",
       "\n",
       "<div id=\"df-2fa89d0a-9a67-4a29-9f3b-5d5f20da464f\">\n",
       "  <button class=\"colab-df-quickchart\" onclick=\"quickchart('df-2fa89d0a-9a67-4a29-9f3b-5d5f20da464f')\"\n",
       "            title=\"Suggest charts.\"\n",
       "            style=\"display:none;\">\n",
       "\n",
       "<svg xmlns=\"http://www.w3.org/2000/svg\" height=\"24px\"viewBox=\"0 0 24 24\"\n",
       "     width=\"24px\">\n",
       "    <g>\n",
       "        <path d=\"M19 3H5c-1.1 0-2 .9-2 2v14c0 1.1.9 2 2 2h14c1.1 0 2-.9 2-2V5c0-1.1-.9-2-2-2zM9 17H7v-7h2v7zm4 0h-2V7h2v10zm4 0h-2v-4h2v4z\"/>\n",
       "    </g>\n",
       "</svg>\n",
       "  </button>\n",
       "\n",
       "<style>\n",
       "  .colab-df-quickchart {\n",
       "      --bg-color: #E8F0FE;\n",
       "      --fill-color: #1967D2;\n",
       "      --hover-bg-color: #E2EBFA;\n",
       "      --hover-fill-color: #174EA6;\n",
       "      --disabled-fill-color: #AAA;\n",
       "      --disabled-bg-color: #DDD;\n",
       "  }\n",
       "\n",
       "  [theme=dark] .colab-df-quickchart {\n",
       "      --bg-color: #3B4455;\n",
       "      --fill-color: #D2E3FC;\n",
       "      --hover-bg-color: #434B5C;\n",
       "      --hover-fill-color: #FFFFFF;\n",
       "      --disabled-bg-color: #3B4455;\n",
       "      --disabled-fill-color: #666;\n",
       "  }\n",
       "\n",
       "  .colab-df-quickchart {\n",
       "    background-color: var(--bg-color);\n",
       "    border: none;\n",
       "    border-radius: 50%;\n",
       "    cursor: pointer;\n",
       "    display: none;\n",
       "    fill: var(--fill-color);\n",
       "    height: 32px;\n",
       "    padding: 0;\n",
       "    width: 32px;\n",
       "  }\n",
       "\n",
       "  .colab-df-quickchart:hover {\n",
       "    background-color: var(--hover-bg-color);\n",
       "    box-shadow: 0 1px 2px rgba(60, 64, 67, 0.3), 0 1px 3px 1px rgba(60, 64, 67, 0.15);\n",
       "    fill: var(--button-hover-fill-color);\n",
       "  }\n",
       "\n",
       "  .colab-df-quickchart-complete:disabled,\n",
       "  .colab-df-quickchart-complete:disabled:hover {\n",
       "    background-color: var(--disabled-bg-color);\n",
       "    fill: var(--disabled-fill-color);\n",
       "    box-shadow: none;\n",
       "  }\n",
       "\n",
       "  .colab-df-spinner {\n",
       "    border: 2px solid var(--fill-color);\n",
       "    border-color: transparent;\n",
       "    border-bottom-color: var(--fill-color);\n",
       "    animation:\n",
       "      spin 1s steps(1) infinite;\n",
       "  }\n",
       "\n",
       "  @keyframes spin {\n",
       "    0% {\n",
       "      border-color: transparent;\n",
       "      border-bottom-color: var(--fill-color);\n",
       "      border-left-color: var(--fill-color);\n",
       "    }\n",
       "    20% {\n",
       "      border-color: transparent;\n",
       "      border-left-color: var(--fill-color);\n",
       "      border-top-color: var(--fill-color);\n",
       "    }\n",
       "    30% {\n",
       "      border-color: transparent;\n",
       "      border-left-color: var(--fill-color);\n",
       "      border-top-color: var(--fill-color);\n",
       "      border-right-color: var(--fill-color);\n",
       "    }\n",
       "    40% {\n",
       "      border-color: transparent;\n",
       "      border-right-color: var(--fill-color);\n",
       "      border-top-color: var(--fill-color);\n",
       "    }\n",
       "    60% {\n",
       "      border-color: transparent;\n",
       "      border-right-color: var(--fill-color);\n",
       "    }\n",
       "    80% {\n",
       "      border-color: transparent;\n",
       "      border-right-color: var(--fill-color);\n",
       "      border-bottom-color: var(--fill-color);\n",
       "    }\n",
       "    90% {\n",
       "      border-color: transparent;\n",
       "      border-bottom-color: var(--fill-color);\n",
       "    }\n",
       "  }\n",
       "</style>\n",
       "\n",
       "  <script>\n",
       "    async function quickchart(key) {\n",
       "      const quickchartButtonEl =\n",
       "        document.querySelector('#' + key + ' button');\n",
       "      quickchartButtonEl.disabled = true;  // To prevent multiple clicks.\n",
       "      quickchartButtonEl.classList.add('colab-df-spinner');\n",
       "      try {\n",
       "        const charts = await google.colab.kernel.invokeFunction(\n",
       "            'suggestCharts', [key], {});\n",
       "      } catch (error) {\n",
       "        console.error('Error during call to suggestCharts:', error);\n",
       "      }\n",
       "      quickchartButtonEl.classList.remove('colab-df-spinner');\n",
       "      quickchartButtonEl.classList.add('colab-df-quickchart-complete');\n",
       "    }\n",
       "    (() => {\n",
       "      let quickchartButtonEl =\n",
       "        document.querySelector('#df-2fa89d0a-9a67-4a29-9f3b-5d5f20da464f button');\n",
       "      quickchartButtonEl.style.display =\n",
       "        google.colab.kernel.accessAllowed ? 'block' : 'none';\n",
       "    })();\n",
       "  </script>\n",
       "</div>\n",
       "    </div>\n",
       "  </div>\n"
      ],
      "text/plain": [
       "      0     1     2     3     4     5     6     7     8     9     ...  9730  \\\n",
       "0      9.0   0.0   0.0   0.0   0.0   0.0   0.0   0.0   0.0   0.0  ...   0.0   \n",
       "1      0.0   1.0   0.0   0.0   0.0   0.0   0.0   0.0   0.0   0.0  ...   0.0   \n",
       "2      0.0   0.0   1.0   0.0   0.0   0.0   0.0   0.0   0.0   0.0  ...   0.0   \n",
       "3      0.0   0.0   0.0   1.0   0.0   0.0   0.0   0.0   0.0   0.0  ...   0.0   \n",
       "4      0.0   0.0   0.0   0.0   1.0   0.0   0.0   0.0   0.0   0.0  ...   0.0   \n",
       "...    ...   ...   ...   ...   ...   ...   ...   ...   ...   ...  ...   ...   \n",
       "9735   0.0   0.0   0.0   0.0   0.0   0.0   0.0   0.0   0.0   0.0  ...   0.0   \n",
       "9736   0.0   0.0   0.0   0.0   0.0   0.0   0.0   0.0   0.0   0.0  ...   0.0   \n",
       "9737   0.0   0.0   0.0   0.0   0.0   0.0   0.0   0.0   0.0   0.0  ...   0.0   \n",
       "9738   0.0   0.0   0.0   0.0   0.0   0.0   0.0   0.0   0.0   0.0  ...   0.0   \n",
       "9739   0.0   0.0   0.0   0.0   0.0   0.0   0.0   0.0   0.0   0.0  ...   0.0   \n",
       "\n",
       "      9731  9732  9733  9734  9735  9736  9737  9738  9739  \n",
       "0      0.0   0.0   0.0   0.0   0.0   0.0   0.0   0.0   0.0  \n",
       "1      0.0   0.0   0.0   0.0   0.0   0.0   0.0   0.0   0.0  \n",
       "2      0.0   0.0   0.0   0.0   0.0   0.0   0.0   0.0   0.0  \n",
       "3      0.0   0.0   0.0   0.0   0.0   0.0   0.0   0.0   0.0  \n",
       "4      0.0   0.0   0.0   0.0   0.0   0.0   0.0   0.0   0.0  \n",
       "...    ...   ...   ...   ...   ...   ...   ...   ...   ...  \n",
       "9735   0.0   0.0   0.0   0.0   2.0   0.0   0.0   0.0   0.0  \n",
       "9736   0.0   0.0   0.0   0.0   0.0   1.0   0.0   0.0   0.0  \n",
       "9737   0.0   0.0   0.0   0.0   0.0   0.0   1.0   0.0   0.0  \n",
       "9738   0.0   0.0   0.0   0.0   0.0   0.0   0.0   2.0   0.0  \n",
       "9739   0.0   0.0   0.0   0.0   0.0   0.0   0.0   0.0   1.0  \n",
       "\n",
       "[9740 rows x 9740 columns]"
      ]
     },
     "execution_count": 225,
     "metadata": {},
     "output_type": "execute_result"
    }
   ],
   "source": [
    "M"
   ]
  },
  {
   "cell_type": "code",
   "execution_count": null,
   "id": "279268f1",
   "metadata": {
    "id": "279268f1"
   },
   "outputs": [],
   "source": [
    "def reduce_to_k_dim(M, n_components = 2):\n",
    "    # initializing truncated svd\n",
    "    svd = TruncatedSVD(n_components = n_components, n_iter = 10)\n",
    "\n",
    "    # fitting svd on data and transforming the data\n",
    "    M_reduced = svd.fit_transform(M)\n",
    "\n",
    "    return M_reduced"
   ]
  },
  {
   "cell_type": "code",
   "execution_count": null,
   "id": "a6c29689",
   "metadata": {
    "id": "a6c29689"
   },
   "outputs": [],
   "source": [
    "M_reduced = reduce_to_k_dim(M)"
   ]
  },
  {
   "cell_type": "code",
   "execution_count": null,
   "id": "4dfde2eb",
   "metadata": {
    "id": "4dfde2eb"
   },
   "outputs": [],
   "source": [
    "def plot_embeddings(M_reduced, word2index, words_to_plot):\n",
    "    for word in words_to_plot:\n",
    "        idx = word2index[word]\n",
    "        coordinate = M_reduced[idx]\n",
    "        plt.scatter(coordinate[0], coordinate[1])\n"
   ]
  },
  {
   "cell_type": "code",
   "execution_count": null,
   "id": "c3d9312c",
   "metadata": {
    "colab": {
     "base_uri": "https://localhost:8080/",
     "height": 434
    },
    "id": "c3d9312c",
    "outputId": "f0070bd3-8634-483a-e4e2-bc47f5839558"
   },
   "outputs": [
    {
     "data": {
      "image/png": "[encoded data removed]",
      "text/plain": [
       "<Figure size 640x480 with 1 Axes>"
      ]
     },
     "metadata": {},
     "output_type": "display_data"
    }
   ],
   "source": [
    "words_to_plot = ['purchase', 'buy', 'work', 'got', 'ordered', 'received', 'product', 'item', 'deal', 'use']\n",
    "plot_embeddings(M_reduced, word2index, words_to_plot)"
   ]
  },
  {
   "cell_type": "markdown",
   "id": "f36db8de",
   "metadata": {
    "id": "f36db8de"
   },
   "source": [
    "### Prediction-based word vectors from Glove"
   ]
  },
  {
   "cell_type": "code",
   "execution_count": null,
   "id": "dc382942",
   "metadata": {
    "colab": {
     "base_uri": "https://localhost:8080/"
    },
    "id": "dc382942",
    "outputId": "022c1a10-56f6-4fdb-8760-1fa306c35a68"
   },
   "outputs": [
    {
     "name": "stdout",
     "output_type": "stream",
     "text": [
      "Loaded vocab size 400000\n"
     ]
    }
   ],
   "source": [
    "def load_embedding_model():\n",
    "    \"\"\"Load GloVe Vectors\n",
    "        Return:\n",
    "            wv_from_bin: All 400000 embeddings, each length 200\n",
    "    \"\"\"\n",
    "    import gensim.downloader as api\n",
    "    wv_from_bin = api.load(\"glove-wiki-gigaword-200\")\n",
    "\n",
    "    print(\"Loaded vocab size %i\" % len(list(wv_from_bin.index_to_key)))\n",
    "\n",
    "    return wv_from_bin\n",
    "\n",
    "wv_from_bin = load_embedding_model()"
   ]
  },
  {
   "cell_type": "code",
   "execution_count": null,
   "id": "0d2684db",
   "metadata": {
    "id": "0d2684db"
   },
   "outputs": [],
   "source": [
    "def get_matrix_of_vectors(wv_from_bin, required_words):\n",
    "    import random\n",
    "\n",
    "    words = list(wv_from_bin.index_to_key)\n",
    "\n",
    "    print(\"Shuffling Words\")\n",
    "    random.seed(225)\n",
    "    random.shuffle(words)\n",
    "    words = words[:10000]\n",
    "\n",
    "    print(\"Putting %i words into word2ind and matrix M...\" %(len(words)))\n",
    "    word2ind = {}\n",
    "    M = []\n",
    "    curInd = 0\n",
    "    for w in words:\n",
    "        try:\n",
    "            M.append(wv_from_bin.get_vector(w))\n",
    "            word2ind[w] = curInd\n",
    "            curInd += 1\n",
    "        except KeyError:\n",
    "            continue\n",
    "\n",
    "    for w in required_words:\n",
    "        if w in words:\n",
    "            continue\n",
    "        try:\n",
    "            M.append(wv_from_bin.get_vector(w))\n",
    "            word2ind[w] = curInd\n",
    "            curInd += 1\n",
    "        except KeyError:\n",
    "            continue\n",
    "\n",
    "    M = np.stack(M)\n",
    "    print(\"Done\")\n",
    "\n",
    "    return M, word2ind"
   ]
  },
  {
   "cell_type": "code",
   "execution_count": null,
   "id": "2a4b0767",
   "metadata": {
    "colab": {
     "base_uri": "https://localhost:8080/"
    },
    "id": "2a4b0767",
    "outputId": "7a3410bd-5c8c-49d4-da30-75abb1ebbff1"
   },
   "outputs": [
    {
     "name": "stdout",
     "output_type": "stream",
     "text": [
      "Shuffling Words\n",
      "Putting 10000 words into word2ind and matrix M...\n",
      "Done\n"
     ]
    }
   ],
   "source": [
    "vocab = get_vocab(amazonReviews)\n",
    "M_glove, word2index_glove = get_matrix_of_vectors(wv_from_bin, vocab)"
   ]
  },
  {
   "cell_type": "code",
   "execution_count": null,
   "id": "14d278fc",
   "metadata": {
    "id": "14d278fc"
   },
   "outputs": [],
   "source": [
    "M_glove_reduced = reduce_to_k_dim(M_glove, n_components = 2)"
   ]
  },
  {
   "cell_type": "code",
   "execution_count": null,
   "id": "4969a104",
   "metadata": {
    "colab": {
     "base_uri": "https://localhost:8080/",
     "height": 430
    },
    "id": "4969a104",
    "outputId": "8e7c8fca-ef39-47bc-f2dd-4693933c6fb2"
   },
   "outputs": [
    {
     "data": {
      "image/png": "[encoded data removed]",
      "text/plain": [
       "<Figure size 640x480 with 1 Axes>"
      ]
     },
     "metadata": {},
     "output_type": "display_data"
    }
   ],
   "source": [
    "words_to_plot = ['purchase', 'buy', 'work', 'got', 'ordered', 'received', 'product', 'item', 'deal', 'use']\n",
    "plot_embeddings(M_glove_reduced, word2index_glove, words_to_plot)"
   ]
  },
  {
   "cell_type": "markdown",
   "id": "a2ebfb4b",
   "metadata": {
    "id": "a2ebfb4b"
   },
   "source": [
    "## Task 2: Sentiment Classification Algorithms"
   ]
  },
  {
   "cell_type": "markdown",
   "id": "mRiabRqGLBKq",
   "metadata": {
    "id": "mRiabRqGLBKq"
   },
   "source": [
    "### Review Embeddings"
   ]
  },
  {
   "cell_type": "code",
   "execution_count": 285,
   "id": "ce2b67bc",
   "metadata": {
    "id": "ce2b67bc"
   },
   "outputs": [],
   "source": [
    "def review_embeddings(corpus, word2index, M, n_components = 2):\n",
    "\n",
    "  # reducing dimensions of M_glove\n",
    "  M_reduced = reduce_to_k_dim(M, n_components = 128)\n",
    "  M_reduced_averaged = np.average(M_reduced, axis = 1)\n",
    "\n",
    "  # allocating space to construct review embeddings\n",
    "  review_embeddings = []\n",
    "  for review in corpus:\n",
    "    currReview = []\n",
    "    for token in review:\n",
    "      try:\n",
    "        idx = word2index[token]\n",
    "        currReview.append(M_reduced_averaged[idx])\n",
    "      except KeyError:\n",
    "        currReview.append(0)\n",
    "\n",
    "    review_embeddings.append(currReview)\n",
    "\n",
    "  # padding the review embeddings to have same length\n",
    "  review_embeddings_padded = []\n",
    "  for embedding in review_embeddings:\n",
    "    embedding = np.array(embedding)\n",
    "    if embedding.shape[0] < n_components:\n",
    "      embedding = np.pad(embedding, pad_width = (0, n_components - embedding.shape[0]), mode = 'constant')\n",
    "    else:\n",
    "      embedding = embedding[0:n_components]\n",
    "    review_embeddings_padded.append(embedding)\n",
    "\n",
    "  review_embeddings_padded = np.stack(review_embeddings_padded)\n",
    "\n",
    "  return review_embeddings_padded"
   ]
  },
  {
   "cell_type": "code",
   "execution_count": 286,
   "id": "a1fd0bf3",
   "metadata": {
    "id": "a1fd0bf3"
   },
   "outputs": [],
   "source": [
    "review_embeds_train = review_embeddings(X_train, word2index, M, 128)"
   ]
  },
  {
   "cell_type": "code",
   "execution_count": 289,
   "id": "3O2CgfwAW8S6",
   "metadata": {
    "id": "3O2CgfwAW8S6"
   },
   "outputs": [],
   "source": [
    "review_embeds_val = review_embeddings(X_val, word2index, M, 128)"
   ]
  },
  {
   "cell_type": "code",
   "execution_count": 307,
   "id": "hrY9TvHaZDpf",
   "metadata": {
    "id": "hrY9TvHaZDpf"
   },
   "outputs": [],
   "source": [
    "review_embeds_test = review_embeddings(X_test, word2index, M, 128)"
   ]
  },
  {
   "cell_type": "markdown",
   "id": "CS2chD_8LCyt",
   "metadata": {
    "id": "CS2chD_8LCyt"
   },
   "source": [
    "### Models"
   ]
  },
  {
   "cell_type": "code",
   "execution_count": 316,
   "id": "ukBp4zu1KHvM",
   "metadata": {
    "id": "ukBp4zu1KHvM"
   },
   "outputs": [],
   "source": [
    "model = models.Sequential()\n",
    "\n",
    "# Input - Layer\n",
    "model.add(layers.Dense(256, activation = \"relu\", input_shape=(128, )))\n",
    "# Hidden - Layers\n",
    "model.add(layers.Dense(128, activation = \"relu\"))\n",
    "model.add(layers.Dense(64, activation = \"relu\"))\n",
    "model.add(layers.Dense(56, activation = \"relu\"))\n",
    "# Output- Layer\n",
    "model.add(layers.Dense(1, activation = \"sigmoid\"))"
   ]
  },
  {
   "cell_type": "code",
   "execution_count": 317,
   "id": "AZFQUis4KcnW",
   "metadata": {
    "id": "AZFQUis4KcnW"
   },
   "outputs": [],
   "source": [
    "model.compile(optimizer = \"adam\",loss = \"binary_crossentropy\",metrics = [\"accuracy\"])"
   ]
  },
  {
   "cell_type": "code",
   "execution_count": 318,
   "id": "W-GSyB3vLU4-",
   "metadata": {
    "colab": {
     "base_uri": "https://localhost:8080/"
    },
    "id": "W-GSyB3vLU4-",
    "outputId": "071b420f-8407-464e-c510-11b055adf966"
   },
   "outputs": [
    {
     "name": "stdout",
     "output_type": "stream",
     "text": [
      "Epoch 1/100\n",
      "125/125 [==============================] - 2s 5ms/step - loss: 0.5230 - accuracy: 0.8474 - val_loss: 0.5066 - val_accuracy: 0.8510\n",
      "Epoch 2/100\n",
      "125/125 [==============================] - 0s 4ms/step - loss: 0.3729 - accuracy: 0.8444 - val_loss: 0.5859 - val_accuracy: 0.8284\n",
      "Epoch 3/100\n",
      "125/125 [==============================] - 0s 3ms/step - loss: 0.1479 - accuracy: 0.8304 - val_loss: 0.9513 - val_accuracy: 0.8555\n",
      "Epoch 4/100\n",
      "125/125 [==============================] - 0s 3ms/step - loss: -3.6921 - accuracy: 0.8397 - val_loss: 17.6541 - val_accuracy: 0.8578\n",
      "Epoch 5/100\n",
      "125/125 [==============================] - 0s 3ms/step - loss: -155.9475 - accuracy: 0.8291 - val_loss: 333.4060 - val_accuracy: 0.8758\n",
      "Epoch 6/100\n",
      "125/125 [==============================] - 0s 4ms/step - loss: -2331.1580 - accuracy: 0.7437 - val_loss: 4627.1670 - val_accuracy: 0.8533\n",
      "Epoch 7/100\n",
      "125/125 [==============================] - 0s 4ms/step - loss: -16923.9512 - accuracy: 0.7517 - val_loss: 16864.5977 - val_accuracy: 0.8533\n",
      "Epoch 8/100\n",
      "125/125 [==============================] - 0s 4ms/step - loss: -76753.8750 - accuracy: 0.7462 - val_loss: 54032.4062 - val_accuracy: 0.8555\n",
      "Epoch 9/100\n",
      "125/125 [==============================] - 0s 4ms/step - loss: -245818.9688 - accuracy: 0.7469 - val_loss: 104880.7578 - val_accuracy: 0.8646\n",
      "Epoch 10/100\n",
      "125/125 [==============================] - 0s 4ms/step - loss: -600902.1875 - accuracy: 0.7532 - val_loss: 228826.2500 - val_accuracy: 0.8646\n",
      "Epoch 11/100\n",
      "125/125 [==============================] - 0s 4ms/step - loss: -1294318.5000 - accuracy: 0.7525 - val_loss: 862041.8125 - val_accuracy: 0.0000e+00\n",
      "Epoch 12/100\n",
      "125/125 [==============================] - 0s 3ms/step - loss: -2506948.0000 - accuracy: 0.7459 - val_loss: 1216102.0000 - val_accuracy: 0.8465\n",
      "Epoch 13/100\n",
      "125/125 [==============================] - 0s 3ms/step - loss: -4476964.0000 - accuracy: 0.7710 - val_loss: 2600903.7500 - val_accuracy: 0.8307\n",
      "Epoch 14/100\n",
      "125/125 [==============================] - 0s 3ms/step - loss: -7690277.0000 - accuracy: 0.7497 - val_loss: 4253017.0000 - val_accuracy: 0.0271\n",
      "Epoch 15/100\n",
      "125/125 [==============================] - 0s 4ms/step - loss: -12206856.0000 - accuracy: 0.7519 - val_loss: 4845348.0000 - val_accuracy: 0.8555\n",
      "Epoch 16/100\n",
      "125/125 [==============================] - 0s 4ms/step - loss: -18401886.0000 - accuracy: 0.7328 - val_loss: 8735790.0000 - val_accuracy: 0.8397\n",
      "Epoch 17/100\n",
      "125/125 [==============================] - 0s 3ms/step - loss: -26722492.0000 - accuracy: 0.7462 - val_loss: 11926995.0000 - val_accuracy: 0.0451\n",
      "Epoch 18/100\n",
      "125/125 [==============================] - 0s 4ms/step - loss: -37226952.0000 - accuracy: 0.7602 - val_loss: 12969470.0000 - val_accuracy: 0.0384\n",
      "Epoch 19/100\n",
      "125/125 [==============================] - 0s 4ms/step - loss: -50627292.0000 - accuracy: 0.7434 - val_loss: 17657872.0000 - val_accuracy: 0.8600\n",
      "Epoch 20/100\n",
      "125/125 [==============================] - 1s 5ms/step - loss: -68214728.0000 - accuracy: 0.7499 - val_loss: 29619482.0000 - val_accuracy: 0.8442\n",
      "Epoch 21/100\n",
      "125/125 [==============================] - 1s 5ms/step - loss: -89155496.0000 - accuracy: 0.7477 - val_loss: 32175620.0000 - val_accuracy: 0.0497\n",
      "Epoch 22/100\n",
      "125/125 [==============================] - 1s 5ms/step - loss: -114991192.0000 - accuracy: 0.7482 - val_loss: 37057892.0000 - val_accuracy: 0.8623\n",
      "Epoch 23/100\n",
      "125/125 [==============================] - 1s 6ms/step - loss: -146152096.0000 - accuracy: 0.7464 - val_loss: 51035156.0000 - val_accuracy: 0.8555\n",
      "Epoch 24/100\n",
      "125/125 [==============================] - 1s 5ms/step - loss: -181659088.0000 - accuracy: 0.7610 - val_loss: 59683348.0000 - val_accuracy: 0.8668\n",
      "Epoch 25/100\n",
      "125/125 [==============================] - 0s 3ms/step - loss: -221572224.0000 - accuracy: 0.7494 - val_loss: 65687196.0000 - val_accuracy: 0.8713\n",
      "Epoch 26/100\n",
      "125/125 [==============================] - 0s 4ms/step - loss: -269084576.0000 - accuracy: 0.7587 - val_loss: 101580688.0000 - val_accuracy: 0.8465\n",
      "Epoch 27/100\n",
      "125/125 [==============================] - 0s 4ms/step - loss: -325872288.0000 - accuracy: 0.7472 - val_loss: 103127520.0000 - val_accuracy: 0.0722\n",
      "Epoch 28/100\n",
      "125/125 [==============================] - 0s 3ms/step - loss: -388014624.0000 - accuracy: 0.7464 - val_loss: 131017800.0000 - val_accuracy: 0.8488\n",
      "Epoch 29/100\n",
      "125/125 [==============================] - 0s 4ms/step - loss: -462304160.0000 - accuracy: 0.7424 - val_loss: 152370656.0000 - val_accuracy: 0.8510\n",
      "Epoch 30/100\n",
      "125/125 [==============================] - 0s 4ms/step - loss: -541312896.0000 - accuracy: 0.7509 - val_loss: 179991152.0000 - val_accuracy: 0.8510\n",
      "Epoch 31/100\n",
      "125/125 [==============================] - 0s 4ms/step - loss: -631077888.0000 - accuracy: 0.7497 - val_loss: 206944864.0000 - val_accuracy: 0.8555\n",
      "Epoch 32/100\n",
      "125/125 [==============================] - 0s 4ms/step - loss: -728103360.0000 - accuracy: 0.7497 - val_loss: 211465760.0000 - val_accuracy: 0.8623\n",
      "Epoch 33/100\n",
      "125/125 [==============================] - 0s 4ms/step - loss: -836747520.0000 - accuracy: 0.7454 - val_loss: 313146368.0000 - val_accuracy: 0.8488\n",
      "Epoch 34/100\n",
      "125/125 [==============================] - 0s 3ms/step - loss: -951959168.0000 - accuracy: 0.7525 - val_loss: 326803584.0000 - val_accuracy: 0.8533\n",
      "Epoch 35/100\n",
      "125/125 [==============================] - 0s 3ms/step - loss: -1087075712.0000 - accuracy: 0.7552 - val_loss: 319037184.0000 - val_accuracy: 0.0813\n",
      "Epoch 36/100\n",
      "125/125 [==============================] - 0s 4ms/step - loss: -1234047360.0000 - accuracy: 0.7439 - val_loss: 396368672.0000 - val_accuracy: 0.8533\n",
      "Epoch 37/100\n",
      "125/125 [==============================] - 0s 3ms/step - loss: -1399191552.0000 - accuracy: 0.7562 - val_loss: 473329056.0000 - val_accuracy: 0.0903\n",
      "Epoch 38/100\n",
      "125/125 [==============================] - 0s 3ms/step - loss: -1569173504.0000 - accuracy: 0.7379 - val_loss: 488424800.0000 - val_accuracy: 0.8510\n",
      "Epoch 39/100\n",
      "125/125 [==============================] - 0s 3ms/step - loss: -1764621952.0000 - accuracy: 0.7434 - val_loss: 592913600.0000 - val_accuracy: 0.8510\n",
      "Epoch 40/100\n",
      "125/125 [==============================] - 0s 3ms/step - loss: -1966726400.0000 - accuracy: 0.7567 - val_loss: 611716224.0000 - val_accuracy: 0.8555\n",
      "Epoch 41/100\n",
      "125/125 [==============================] - 0s 3ms/step - loss: -2192978176.0000 - accuracy: 0.7479 - val_loss: 655273408.0000 - val_accuracy: 0.8623\n",
      "Epoch 42/100\n",
      "125/125 [==============================] - 1s 4ms/step - loss: -2437063424.0000 - accuracy: 0.7454 - val_loss: 736795136.0000 - val_accuracy: 0.8623\n",
      "Epoch 43/100\n",
      "125/125 [==============================] - 0s 3ms/step - loss: -2701388032.0000 - accuracy: 0.7494 - val_loss: 854829888.0000 - val_accuracy: 0.8533\n",
      "Epoch 44/100\n",
      "125/125 [==============================] - 0s 3ms/step - loss: -2987418880.0000 - accuracy: 0.7479 - val_loss: 1029570880.0000 - val_accuracy: 0.8510\n",
      "Epoch 45/100\n",
      "125/125 [==============================] - 0s 3ms/step - loss: -3288890880.0000 - accuracy: 0.7587 - val_loss: 968420736.0000 - val_accuracy: 0.0880\n",
      "Epoch 46/100\n",
      "125/125 [==============================] - 0s 4ms/step - loss: -3612404992.0000 - accuracy: 0.7429 - val_loss: 1150398848.0000 - val_accuracy: 0.8555\n",
      "Epoch 47/100\n",
      "125/125 [==============================] - 1s 5ms/step - loss: -3982407168.0000 - accuracy: 0.7492 - val_loss: 1287353984.0000 - val_accuracy: 0.8533\n",
      "Epoch 48/100\n",
      "125/125 [==============================] - 1s 5ms/step - loss: -4357612032.0000 - accuracy: 0.7605 - val_loss: 1422238208.0000 - val_accuracy: 0.8533\n",
      "Epoch 49/100\n",
      "125/125 [==============================] - 1s 5ms/step - loss: -4753616896.0000 - accuracy: 0.7562 - val_loss: 1432060288.0000 - val_accuracy: 0.0993\n",
      "Epoch 50/100\n",
      "125/125 [==============================] - 1s 5ms/step - loss: -5171373056.0000 - accuracy: 0.7391 - val_loss: 1618709760.0000 - val_accuracy: 0.8555\n",
      "Epoch 51/100\n",
      "125/125 [==============================] - 0s 4ms/step - loss: -5610905088.0000 - accuracy: 0.7504 - val_loss: 1739879296.0000 - val_accuracy: 0.8533\n",
      "Epoch 52/100\n",
      "125/125 [==============================] - 0s 3ms/step - loss: -6071217152.0000 - accuracy: 0.7484 - val_loss: 1903970816.0000 - val_accuracy: 0.0993\n",
      "Epoch 53/100\n",
      "125/125 [==============================] - 0s 3ms/step - loss: -6576762880.0000 - accuracy: 0.7454 - val_loss: 2072213760.0000 - val_accuracy: 0.8510\n",
      "Epoch 54/100\n",
      "125/125 [==============================] - 0s 4ms/step - loss: -7105987072.0000 - accuracy: 0.7552 - val_loss: 2309788928.0000 - val_accuracy: 0.8510\n",
      "Epoch 55/100\n",
      "125/125 [==============================] - 0s 4ms/step - loss: -7656332288.0000 - accuracy: 0.7487 - val_loss: 2350632448.0000 - val_accuracy: 0.8533\n",
      "Epoch 56/100\n",
      "125/125 [==============================] - 0s 3ms/step - loss: -8241174016.0000 - accuracy: 0.7406 - val_loss: 2506148096.0000 - val_accuracy: 0.8555\n",
      "Epoch 57/100\n",
      "125/125 [==============================] - 0s 3ms/step - loss: -8874133504.0000 - accuracy: 0.7459 - val_loss: 2668305152.0000 - val_accuracy: 0.8600\n",
      "Epoch 58/100\n",
      "125/125 [==============================] - 0s 3ms/step - loss: -9552882688.0000 - accuracy: 0.7467 - val_loss: 2912193792.0000 - val_accuracy: 0.8555\n",
      "Epoch 59/100\n",
      "125/125 [==============================] - 0s 3ms/step - loss: -10226192384.0000 - accuracy: 0.7625 - val_loss: 3025041664.0000 - val_accuracy: 0.8578\n",
      "Epoch 60/100\n",
      "125/125 [==============================] - 0s 3ms/step - loss: -10974160896.0000 - accuracy: 0.7318 - val_loss: 3330963712.0000 - val_accuracy: 0.8510\n",
      "Epoch 61/100\n",
      "125/125 [==============================] - 0s 3ms/step - loss: -11727308800.0000 - accuracy: 0.7507 - val_loss: 3647384576.0000 - val_accuracy: 0.8510\n",
      "Epoch 62/100\n",
      "125/125 [==============================] - 0s 3ms/step - loss: -12570014720.0000 - accuracy: 0.7457 - val_loss: 4115995904.0000 - val_accuracy: 0.8510\n",
      "Epoch 63/100\n",
      "125/125 [==============================] - 0s 3ms/step - loss: -13423562752.0000 - accuracy: 0.7517 - val_loss: 4163752192.0000 - val_accuracy: 0.8510\n",
      "Epoch 64/100\n",
      "125/125 [==============================] - 0s 3ms/step - loss: -14357327872.0000 - accuracy: 0.7517 - val_loss: 4293639424.0000 - val_accuracy: 0.1038\n",
      "Epoch 65/100\n",
      "125/125 [==============================] - 0s 3ms/step - loss: -15305944064.0000 - accuracy: 0.7439 - val_loss: 4580145152.0000 - val_accuracy: 0.8578\n",
      "Epoch 66/100\n",
      "125/125 [==============================] - 0s 3ms/step - loss: -16296894464.0000 - accuracy: 0.7389 - val_loss: 5001778176.0000 - val_accuracy: 0.8533\n",
      "Epoch 67/100\n",
      "125/125 [==============================] - 0s 3ms/step - loss: -17354762240.0000 - accuracy: 0.7582 - val_loss: 5336453120.0000 - val_accuracy: 0.8578\n",
      "Epoch 68/100\n",
      "125/125 [==============================] - 0s 3ms/step - loss: -18438250496.0000 - accuracy: 0.7512 - val_loss: 5805069312.0000 - val_accuracy: 0.1061\n",
      "Epoch 69/100\n",
      "125/125 [==============================] - 0s 3ms/step - loss: -19569887232.0000 - accuracy: 0.7432 - val_loss: 5744066560.0000 - val_accuracy: 0.8646\n",
      "Epoch 70/100\n",
      "125/125 [==============================] - 0s 4ms/step - loss: -20775882752.0000 - accuracy: 0.7547 - val_loss: 6487927296.0000 - val_accuracy: 0.1151\n",
      "Epoch 71/100\n",
      "125/125 [==============================] - 0s 3ms/step - loss: -22044620800.0000 - accuracy: 0.7354 - val_loss: 6651830272.0000 - val_accuracy: 0.8555\n",
      "Epoch 72/100\n",
      "125/125 [==============================] - 0s 3ms/step - loss: -23357626368.0000 - accuracy: 0.7522 - val_loss: 6826918912.0000 - val_accuracy: 0.8600\n",
      "Epoch 73/100\n",
      "125/125 [==============================] - 0s 3ms/step - loss: -24700463104.0000 - accuracy: 0.7547 - val_loss: 7558543872.0000 - val_accuracy: 0.8555\n",
      "Epoch 74/100\n",
      "125/125 [==============================] - 0s 4ms/step - loss: -26127507456.0000 - accuracy: 0.7494 - val_loss: 7911023616.0000 - val_accuracy: 0.1151\n",
      "Epoch 75/100\n",
      "125/125 [==============================] - 1s 4ms/step - loss: -27631435776.0000 - accuracy: 0.7361 - val_loss: 8438699008.0000 - val_accuracy: 0.8533\n",
      "Epoch 76/100\n",
      "125/125 [==============================] - 1s 5ms/step - loss: -29106458624.0000 - accuracy: 0.7552 - val_loss: 8435190784.0000 - val_accuracy: 0.8600\n",
      "Epoch 77/100\n",
      "125/125 [==============================] - 1s 5ms/step - loss: -30717218816.0000 - accuracy: 0.7401 - val_loss: 9290492928.0000 - val_accuracy: 0.8533\n",
      "Epoch 78/100\n",
      "125/125 [==============================] - 1s 5ms/step - loss: -32490962944.0000 - accuracy: 0.7512 - val_loss: 9566228480.0000 - val_accuracy: 0.8555\n",
      "Epoch 79/100\n",
      "125/125 [==============================] - 1s 5ms/step - loss: -34208272384.0000 - accuracy: 0.7499 - val_loss: 9727226880.0000 - val_accuracy: 0.8646\n",
      "Epoch 80/100\n",
      "125/125 [==============================] - 0s 3ms/step - loss: -35932827648.0000 - accuracy: 0.7545 - val_loss: 11152180224.0000 - val_accuracy: 0.8510\n",
      "Epoch 81/100\n",
      "125/125 [==============================] - 0s 3ms/step - loss: -37886066688.0000 - accuracy: 0.7489 - val_loss: 11547114496.0000 - val_accuracy: 0.1106\n",
      "Epoch 82/100\n",
      "125/125 [==============================] - 0s 3ms/step - loss: -39780114432.0000 - accuracy: 0.7432 - val_loss: 11855129600.0000 - val_accuracy: 0.8555\n",
      "Epoch 83/100\n",
      "125/125 [==============================] - 0s 4ms/step - loss: -41822752768.0000 - accuracy: 0.7419 - val_loss: 12626745344.0000 - val_accuracy: 0.8510\n",
      "Epoch 84/100\n",
      "125/125 [==============================] - 0s 3ms/step - loss: -43984719872.0000 - accuracy: 0.7623 - val_loss: 12997487616.0000 - val_accuracy: 0.8555\n",
      "Epoch 85/100\n",
      "125/125 [==============================] - 0s 3ms/step - loss: -46166974464.0000 - accuracy: 0.7502 - val_loss: 13956843520.0000 - val_accuracy: 0.8533\n",
      "Epoch 86/100\n",
      "125/125 [==============================] - 0s 3ms/step - loss: -48449986560.0000 - accuracy: 0.7419 - val_loss: 14329825280.0000 - val_accuracy: 0.8533\n",
      "Epoch 87/100\n",
      "125/125 [==============================] - 0s 3ms/step - loss: -50750849024.0000 - accuracy: 0.7474 - val_loss: 15488480256.0000 - val_accuracy: 0.8510\n",
      "Epoch 88/100\n",
      "125/125 [==============================] - 1s 10ms/step - loss: -53265907712.0000 - accuracy: 0.7439 - val_loss: 16238203904.0000 - val_accuracy: 0.8510\n",
      "Epoch 89/100\n",
      "125/125 [==============================] - 1s 9ms/step - loss: -55779307520.0000 - accuracy: 0.7587 - val_loss: 17283340288.0000 - val_accuracy: 0.1196\n",
      "Epoch 90/100\n",
      "125/125 [==============================] - 1s 6ms/step - loss: -58284101632.0000 - accuracy: 0.7399 - val_loss: 17586044928.0000 - val_accuracy: 0.8533\n",
      "Epoch 91/100\n",
      "125/125 [==============================] - 0s 3ms/step - loss: -61061455872.0000 - accuracy: 0.7429 - val_loss: 18016626688.0000 - val_accuracy: 0.8555\n",
      "Epoch 92/100\n",
      "125/125 [==============================] - 0s 3ms/step - loss: -63788056576.0000 - accuracy: 0.7492 - val_loss: 18559094784.0000 - val_accuracy: 0.1264\n",
      "Epoch 93/100\n",
      "125/125 [==============================] - 0s 3ms/step - loss: -66638053376.0000 - accuracy: 0.7414 - val_loss: 20197150720.0000 - val_accuracy: 0.8510\n",
      "Epoch 94/100\n",
      "125/125 [==============================] - 0s 3ms/step - loss: -69601804288.0000 - accuracy: 0.7560 - val_loss: 20230961152.0000 - val_accuracy: 0.8555\n",
      "Epoch 95/100\n",
      "125/125 [==============================] - 0s 4ms/step - loss: -72705409024.0000 - accuracy: 0.7447 - val_loss: 21645273088.0000 - val_accuracy: 0.8555\n",
      "Epoch 96/100\n",
      "125/125 [==============================] - 0s 3ms/step - loss: -75913469952.0000 - accuracy: 0.7477 - val_loss: 22806290432.0000 - val_accuracy: 0.8533\n",
      "Epoch 97/100\n",
      "125/125 [==============================] - 0s 3ms/step - loss: -79032147968.0000 - accuracy: 0.7432 - val_loss: 23184578560.0000 - val_accuracy: 0.8578\n",
      "Epoch 98/100\n",
      "125/125 [==============================] - 0s 3ms/step - loss: -82592481280.0000 - accuracy: 0.7386 - val_loss: 24840046592.0000 - val_accuracy: 0.8533\n",
      "Epoch 99/100\n",
      "125/125 [==============================] - 1s 4ms/step - loss: -85929623552.0000 - accuracy: 0.7560 - val_loss: 25695844352.0000 - val_accuracy: 0.8533\n",
      "Epoch 100/100\n",
      "125/125 [==============================] - 1s 5ms/step - loss: -89608347648.0000 - accuracy: 0.7479 - val_loss: 25883342848.0000 - val_accuracy: 0.8600\n"
     ]
    }
   ],
   "source": [
    "results = model.fit(review_embeds_train, y_train, epochs= 100, batch_size = 32, validation_data = (review_embeds_val, y_val))"
   ]
  },
  {
   "cell_type": "markdown",
   "id": "_SY-oUsNX2Um",
   "metadata": {
    "id": "_SY-oUsNX2Um"
   },
   "source": [
    "### Logistic Regression"
   ]
  },
  {
   "cell_type": "code",
   "execution_count": 301,
   "id": "ZQ5TxJR4X3uw",
   "metadata": {
    "colab": {
     "base_uri": "https://localhost:8080/",
     "height": 75
    },
    "id": "ZQ5TxJR4X3uw",
    "outputId": "c6fbfc33-9d36-44ab-af04-699656716d94"
   },
   "outputs": [
    {
     "data": {
      "text/html": [
       "<style>#sk-container-id-3 {color: black;background-color: white;}#sk-container-id-3 pre{padding: 0;}#sk-container-id-3 div.sk-toggleable {background-color: white;}#sk-container-id-3 label.sk-toggleable__label {cursor: pointer;display: block;width: 100%;margin-bottom: 0;padding: 0.3em;box-sizing: border-box;text-align: center;}#sk-container-id-3 label.sk-toggleable__label-arrow:before {content: \"▸\";float: left;margin-right: 0.25em;color: #696969;}#sk-container-id-3 label.sk-toggleable__label-arrow:hover:before {color: black;}#sk-container-id-3 div.sk-estimator:hover label.sk-toggleable__label-arrow:before {color: black;}#sk-container-id-3 div.sk-toggleable__content {max-height: 0;max-width: 0;overflow: hidden;text-align: left;background-color: #f0f8ff;}#sk-container-id-3 div.sk-toggleable__content pre {margin: 0.2em;color: black;border-radius: 0.25em;background-color: #f0f8ff;}#sk-container-id-3 input.sk-toggleable__control:checked~div.sk-toggleable__content {max-height: 200px;max-width: 100%;overflow: auto;}#sk-container-id-3 input.sk-toggleable__control:checked~label.sk-toggleable__label-arrow:before {content: \"▾\";}#sk-container-id-3 div.sk-estimator input.sk-toggleable__control:checked~label.sk-toggleable__label {background-color: #d4ebff;}#sk-container-id-3 div.sk-label input.sk-toggleable__control:checked~label.sk-toggleable__label {background-color: #d4ebff;}#sk-container-id-3 input.sk-hidden--visually {border: 0;clip: rect(1px 1px 1px 1px);clip: rect(1px, 1px, 1px, 1px);height: 1px;margin: -1px;overflow: hidden;padding: 0;position: absolute;width: 1px;}#sk-container-id-3 div.sk-estimator {font-family: monospace;background-color: #f0f8ff;border: 1px dotted black;border-radius: 0.25em;box-sizing: border-box;margin-bottom: 0.5em;}#sk-container-id-3 div.sk-estimator:hover {background-color: #d4ebff;}#sk-container-id-3 div.sk-parallel-item::after {content: \"\";width: 100%;border-bottom: 1px solid gray;flex-grow: 1;}#sk-container-id-3 div.sk-label:hover label.sk-toggleable__label {background-color: #d4ebff;}#sk-container-id-3 div.sk-serial::before {content: \"\";position: absolute;border-left: 1px solid gray;box-sizing: border-box;top: 0;bottom: 0;left: 50%;z-index: 0;}#sk-container-id-3 div.sk-serial {display: flex;flex-direction: column;align-items: center;background-color: white;padding-right: 0.2em;padding-left: 0.2em;position: relative;}#sk-container-id-3 div.sk-item {position: relative;z-index: 1;}#sk-container-id-3 div.sk-parallel {display: flex;align-items: stretch;justify-content: center;background-color: white;position: relative;}#sk-container-id-3 div.sk-item::before, #sk-container-id-3 div.sk-parallel-item::before {content: \"\";position: absolute;border-left: 1px solid gray;box-sizing: border-box;top: 0;bottom: 0;left: 50%;z-index: -1;}#sk-container-id-3 div.sk-parallel-item {display: flex;flex-direction: column;z-index: 1;position: relative;background-color: white;}#sk-container-id-3 div.sk-parallel-item:first-child::after {align-self: flex-end;width: 50%;}#sk-container-id-3 div.sk-parallel-item:last-child::after {align-self: flex-start;width: 50%;}#sk-container-id-3 div.sk-parallel-item:only-child::after {width: 0;}#sk-container-id-3 div.sk-dashed-wrapped {border: 1px dashed gray;margin: 0 0.4em 0.5em 0.4em;box-sizing: border-box;padding-bottom: 0.4em;background-color: white;}#sk-container-id-3 div.sk-label label {font-family: monospace;font-weight: bold;display: inline-block;line-height: 1.2em;}#sk-container-id-3 div.sk-label-container {text-align: center;}#sk-container-id-3 div.sk-container {/* jupyter's `normalize.less` sets `[hidden] { display: none; }` but bootstrap.min.css set `[hidden] { display: none !important; }` so we also need the `!important` here to be able to override the default hidden behavior on the sphinx rendered scikit-learn.org. See: https://github.com/scikit-learn/scikit-learn/issues/21755 */display: inline-block !important;position: relative;}#sk-container-id-3 div.sk-text-repr-fallback {display: none;}</style><div id=\"sk-container-id-3\" class=\"sk-top-container\"><div class=\"sk-text-repr-fallback\"><pre>LogisticRegression(max_iter=1000)</pre><b>In a Jupyter environment, please rerun this cell to show the HTML representation or trust the notebook. <br />On GitHub, the HTML representation is unable to render, please try loading this page with nbviewer.org.</b></div><div class=\"sk-container\" hidden><div class=\"sk-item\"><div class=\"sk-estimator sk-toggleable\"><input class=\"sk-toggleable__control sk-hidden--visually\" id=\"sk-estimator-id-3\" type=\"checkbox\" checked><label for=\"sk-estimator-id-3\" class=\"sk-toggleable__label sk-toggleable__label-arrow\">LogisticRegression</label><div class=\"sk-toggleable__content\"><pre>LogisticRegression(max_iter=1000)</pre></div></div></div></div></div>"
      ],
      "text/plain": [
       "LogisticRegression(max_iter=1000)"
      ]
     },
     "execution_count": 301,
     "metadata": {},
     "output_type": "execute_result"
    }
   ],
   "source": [
    "logistic_regression = LogisticRegression(max_iter = 1000)\n",
    "logistic_regression.fit(review_embeds_train, y_train)"
   ]
  },
  {
   "cell_type": "code",
   "execution_count": 308,
   "id": "qzNTxtu5YOlG",
   "metadata": {
    "id": "qzNTxtu5YOlG"
   },
   "outputs": [],
   "source": [
    "y_pred = logistic_regression.predict(review_embeds_test)"
   ]
  },
  {
   "cell_type": "code",
   "execution_count": 315,
   "id": "saQjQHmuYeiE",
   "metadata": {
    "colab": {
     "base_uri": "https://localhost:8080/"
    },
    "id": "saQjQHmuYeiE",
    "outputId": "d9d8b496-c4e5-4b1f-fc33-e31eae627651"
   },
   "outputs": [
    {
     "name": "stdout",
     "output_type": "stream",
     "text": [
      "Accuracy:  0.9024390243902439\n",
      "Precision:  0.9229166666666667\n",
      "Recall:  0.9757709251101322\n",
      "F1:  0.9486081370449679\n",
      "ROC AUC:  0.5010433572919082\n"
     ]
    }
   ],
   "source": [
    "accuracy = accuracy_score(y_test, y_pred)\n",
    "print(\"Accuracy: \", accuracy)\n",
    "\n",
    "precision = precision_score(y_test, y_pred)\n",
    "print(\"Precision: \", precision)\n",
    "\n",
    "recall = recall_score(y_test, y_pred)\n",
    "print(\"Recall: \", recall)\n",
    "\n",
    "f1 = f1_score(y_test, y_pred)\n",
    "print(\"F1: \", f1)\n",
    "\n",
    "roc_auc = roc_auc_score(y_test, y_pred)\n",
    "print(\"ROC AUC: \", roc_auc)"
   ]
  }
 ],
 "metadata": {
  "colab": {
   "provenance": []
  },
  "kernelspec": {
   "display_name": "Python 3 (ipykernel)",
   "language": "python",
   "name": "python3"
  },
  "language_info": {
   "codemirror_mode": {
    "name": "ipython",
    "version": 3
   },
   "file_extension": ".py",
   "mimetype": "text/x-python",
   "name": "python",
   "nbconvert_exporter": "python",
   "pygments_lexer": "ipython3",
   "version": "3.10.8"
  }
 },
 "nbformat": 4,
 "nbformat_minor": 5
}
